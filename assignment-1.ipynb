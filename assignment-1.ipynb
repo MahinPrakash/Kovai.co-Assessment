{
 "cells": [
  {
   "cell_type": "code",
   "execution_count": 164,
   "metadata": {},
   "outputs": [],
   "source": [
    "import pandas as pd\n",
    "import numpy as np\n",
    "import matplotlib.pyplot as plt\n",
    "import seaborn as sb\n",
    "import plotly.express as px"
   ]
  },
  {
   "cell_type": "code",
   "execution_count": 165,
   "metadata": {},
   "outputs": [
    {
     "data": {
      "text/html": [
       "<div>\n",
       "<style scoped>\n",
       "    .dataframe tbody tr th:only-of-type {\n",
       "        vertical-align: middle;\n",
       "    }\n",
       "\n",
       "    .dataframe tbody tr th {\n",
       "        vertical-align: top;\n",
       "    }\n",
       "\n",
       "    .dataframe thead th {\n",
       "        text-align: right;\n",
       "    }\n",
       "</style>\n",
       "<table border=\"1\" class=\"dataframe\">\n",
       "  <thead>\n",
       "    <tr style=\"text-align: right;\">\n",
       "      <th></th>\n",
       "      <th>show_id</th>\n",
       "      <th>type</th>\n",
       "      <th>title</th>\n",
       "      <th>director</th>\n",
       "      <th>cast</th>\n",
       "      <th>country</th>\n",
       "      <th>date_added</th>\n",
       "      <th>release_year</th>\n",
       "      <th>rating</th>\n",
       "      <th>duration</th>\n",
       "      <th>listed_in</th>\n",
       "      <th>description</th>\n",
       "    </tr>\n",
       "  </thead>\n",
       "  <tbody>\n",
       "    <tr>\n",
       "      <th>0</th>\n",
       "      <td>s1</td>\n",
       "      <td>Movie</td>\n",
       "      <td>Dick Johnson Is Dead</td>\n",
       "      <td>Kirsten Johnson</td>\n",
       "      <td>NaN</td>\n",
       "      <td>United States</td>\n",
       "      <td>September 25, 2021</td>\n",
       "      <td>2020</td>\n",
       "      <td>PG-13</td>\n",
       "      <td>90 min</td>\n",
       "      <td>Documentaries</td>\n",
       "      <td>As her father nears the end of his life, filmm...</td>\n",
       "    </tr>\n",
       "    <tr>\n",
       "      <th>1</th>\n",
       "      <td>s2</td>\n",
       "      <td>TV Show</td>\n",
       "      <td>Blood &amp; Water</td>\n",
       "      <td>NaN</td>\n",
       "      <td>Ama Qamata, Khosi Ngema, Gail Mabalane, Thaban...</td>\n",
       "      <td>South Africa</td>\n",
       "      <td>September 24, 2021</td>\n",
       "      <td>2021</td>\n",
       "      <td>TV-MA</td>\n",
       "      <td>2 Seasons</td>\n",
       "      <td>International TV Shows, TV Dramas, TV Mysteries</td>\n",
       "      <td>After crossing paths at a party, a Cape Town t...</td>\n",
       "    </tr>\n",
       "    <tr>\n",
       "      <th>2</th>\n",
       "      <td>s3</td>\n",
       "      <td>TV Show</td>\n",
       "      <td>Ganglands</td>\n",
       "      <td>Julien Leclercq</td>\n",
       "      <td>Sami Bouajila, Tracy Gotoas, Samuel Jouy, Nabi...</td>\n",
       "      <td>NaN</td>\n",
       "      <td>September 24, 2021</td>\n",
       "      <td>2021</td>\n",
       "      <td>TV-MA</td>\n",
       "      <td>1 Season</td>\n",
       "      <td>Crime TV Shows, International TV Shows, TV Act...</td>\n",
       "      <td>To protect his family from a powerful drug lor...</td>\n",
       "    </tr>\n",
       "    <tr>\n",
       "      <th>3</th>\n",
       "      <td>s4</td>\n",
       "      <td>TV Show</td>\n",
       "      <td>Jailbirds New Orleans</td>\n",
       "      <td>NaN</td>\n",
       "      <td>NaN</td>\n",
       "      <td>NaN</td>\n",
       "      <td>September 24, 2021</td>\n",
       "      <td>2021</td>\n",
       "      <td>TV-MA</td>\n",
       "      <td>1 Season</td>\n",
       "      <td>Docuseries, Reality TV</td>\n",
       "      <td>Feuds, flirtations and toilet talk go down amo...</td>\n",
       "    </tr>\n",
       "    <tr>\n",
       "      <th>4</th>\n",
       "      <td>s5</td>\n",
       "      <td>TV Show</td>\n",
       "      <td>Kota Factory</td>\n",
       "      <td>NaN</td>\n",
       "      <td>Mayur More, Jitendra Kumar, Ranjan Raj, Alam K...</td>\n",
       "      <td>India</td>\n",
       "      <td>September 24, 2021</td>\n",
       "      <td>2021</td>\n",
       "      <td>TV-MA</td>\n",
       "      <td>2 Seasons</td>\n",
       "      <td>International TV Shows, Romantic TV Shows, TV ...</td>\n",
       "      <td>In a city of coaching centers known to train I...</td>\n",
       "    </tr>\n",
       "    <tr>\n",
       "      <th>...</th>\n",
       "      <td>...</td>\n",
       "      <td>...</td>\n",
       "      <td>...</td>\n",
       "      <td>...</td>\n",
       "      <td>...</td>\n",
       "      <td>...</td>\n",
       "      <td>...</td>\n",
       "      <td>...</td>\n",
       "      <td>...</td>\n",
       "      <td>...</td>\n",
       "      <td>...</td>\n",
       "      <td>...</td>\n",
       "    </tr>\n",
       "    <tr>\n",
       "      <th>8802</th>\n",
       "      <td>s8803</td>\n",
       "      <td>Movie</td>\n",
       "      <td>Zodiac</td>\n",
       "      <td>David Fincher</td>\n",
       "      <td>Mark Ruffalo, Jake Gyllenhaal, Robert Downey J...</td>\n",
       "      <td>United States</td>\n",
       "      <td>November 20, 2019</td>\n",
       "      <td>2007</td>\n",
       "      <td>R</td>\n",
       "      <td>158 min</td>\n",
       "      <td>Cult Movies, Dramas, Thrillers</td>\n",
       "      <td>A political cartoonist, a crime reporter and a...</td>\n",
       "    </tr>\n",
       "    <tr>\n",
       "      <th>8803</th>\n",
       "      <td>s8804</td>\n",
       "      <td>TV Show</td>\n",
       "      <td>Zombie Dumb</td>\n",
       "      <td>NaN</td>\n",
       "      <td>NaN</td>\n",
       "      <td>NaN</td>\n",
       "      <td>July 1, 2019</td>\n",
       "      <td>2018</td>\n",
       "      <td>TV-Y7</td>\n",
       "      <td>2 Seasons</td>\n",
       "      <td>Kids' TV, Korean TV Shows, TV Comedies</td>\n",
       "      <td>While living alone in a spooky town, a young g...</td>\n",
       "    </tr>\n",
       "    <tr>\n",
       "      <th>8804</th>\n",
       "      <td>s8805</td>\n",
       "      <td>Movie</td>\n",
       "      <td>Zombieland</td>\n",
       "      <td>Ruben Fleischer</td>\n",
       "      <td>Jesse Eisenberg, Woody Harrelson, Emma Stone, ...</td>\n",
       "      <td>United States</td>\n",
       "      <td>November 1, 2019</td>\n",
       "      <td>2009</td>\n",
       "      <td>R</td>\n",
       "      <td>88 min</td>\n",
       "      <td>Comedies, Horror Movies</td>\n",
       "      <td>Looking to survive in a world taken over by zo...</td>\n",
       "    </tr>\n",
       "    <tr>\n",
       "      <th>8805</th>\n",
       "      <td>s8806</td>\n",
       "      <td>Movie</td>\n",
       "      <td>Zoom</td>\n",
       "      <td>Peter Hewitt</td>\n",
       "      <td>Tim Allen, Courteney Cox, Chevy Chase, Kate Ma...</td>\n",
       "      <td>United States</td>\n",
       "      <td>January 11, 2020</td>\n",
       "      <td>2006</td>\n",
       "      <td>PG</td>\n",
       "      <td>88 min</td>\n",
       "      <td>Children &amp; Family Movies, Comedies</td>\n",
       "      <td>Dragged from civilian life, a former superhero...</td>\n",
       "    </tr>\n",
       "    <tr>\n",
       "      <th>8806</th>\n",
       "      <td>s8807</td>\n",
       "      <td>Movie</td>\n",
       "      <td>Zubaan</td>\n",
       "      <td>Mozez Singh</td>\n",
       "      <td>Vicky Kaushal, Sarah-Jane Dias, Raaghav Chanan...</td>\n",
       "      <td>India</td>\n",
       "      <td>March 2, 2019</td>\n",
       "      <td>2015</td>\n",
       "      <td>TV-14</td>\n",
       "      <td>111 min</td>\n",
       "      <td>Dramas, International Movies, Music &amp; Musicals</td>\n",
       "      <td>A scrappy but poor boy worms his way into a ty...</td>\n",
       "    </tr>\n",
       "  </tbody>\n",
       "</table>\n",
       "<p>8807 rows × 12 columns</p>\n",
       "</div>"
      ],
      "text/plain": [
       "     show_id     type                  title         director  \\\n",
       "0         s1    Movie   Dick Johnson Is Dead  Kirsten Johnson   \n",
       "1         s2  TV Show          Blood & Water              NaN   \n",
       "2         s3  TV Show              Ganglands  Julien Leclercq   \n",
       "3         s4  TV Show  Jailbirds New Orleans              NaN   \n",
       "4         s5  TV Show           Kota Factory              NaN   \n",
       "...      ...      ...                    ...              ...   \n",
       "8802   s8803    Movie                 Zodiac    David Fincher   \n",
       "8803   s8804  TV Show            Zombie Dumb              NaN   \n",
       "8804   s8805    Movie             Zombieland  Ruben Fleischer   \n",
       "8805   s8806    Movie                   Zoom     Peter Hewitt   \n",
       "8806   s8807    Movie                 Zubaan      Mozez Singh   \n",
       "\n",
       "                                                   cast        country  \\\n",
       "0                                                   NaN  United States   \n",
       "1     Ama Qamata, Khosi Ngema, Gail Mabalane, Thaban...   South Africa   \n",
       "2     Sami Bouajila, Tracy Gotoas, Samuel Jouy, Nabi...            NaN   \n",
       "3                                                   NaN            NaN   \n",
       "4     Mayur More, Jitendra Kumar, Ranjan Raj, Alam K...          India   \n",
       "...                                                 ...            ...   \n",
       "8802  Mark Ruffalo, Jake Gyllenhaal, Robert Downey J...  United States   \n",
       "8803                                                NaN            NaN   \n",
       "8804  Jesse Eisenberg, Woody Harrelson, Emma Stone, ...  United States   \n",
       "8805  Tim Allen, Courteney Cox, Chevy Chase, Kate Ma...  United States   \n",
       "8806  Vicky Kaushal, Sarah-Jane Dias, Raaghav Chanan...          India   \n",
       "\n",
       "              date_added  release_year rating   duration  \\\n",
       "0     September 25, 2021          2020  PG-13     90 min   \n",
       "1     September 24, 2021          2021  TV-MA  2 Seasons   \n",
       "2     September 24, 2021          2021  TV-MA   1 Season   \n",
       "3     September 24, 2021          2021  TV-MA   1 Season   \n",
       "4     September 24, 2021          2021  TV-MA  2 Seasons   \n",
       "...                  ...           ...    ...        ...   \n",
       "8802   November 20, 2019          2007      R    158 min   \n",
       "8803        July 1, 2019          2018  TV-Y7  2 Seasons   \n",
       "8804    November 1, 2019          2009      R     88 min   \n",
       "8805    January 11, 2020          2006     PG     88 min   \n",
       "8806       March 2, 2019          2015  TV-14    111 min   \n",
       "\n",
       "                                              listed_in  \\\n",
       "0                                         Documentaries   \n",
       "1       International TV Shows, TV Dramas, TV Mysteries   \n",
       "2     Crime TV Shows, International TV Shows, TV Act...   \n",
       "3                                Docuseries, Reality TV   \n",
       "4     International TV Shows, Romantic TV Shows, TV ...   \n",
       "...                                                 ...   \n",
       "8802                     Cult Movies, Dramas, Thrillers   \n",
       "8803             Kids' TV, Korean TV Shows, TV Comedies   \n",
       "8804                            Comedies, Horror Movies   \n",
       "8805                 Children & Family Movies, Comedies   \n",
       "8806     Dramas, International Movies, Music & Musicals   \n",
       "\n",
       "                                            description  \n",
       "0     As her father nears the end of his life, filmm...  \n",
       "1     After crossing paths at a party, a Cape Town t...  \n",
       "2     To protect his family from a powerful drug lor...  \n",
       "3     Feuds, flirtations and toilet talk go down amo...  \n",
       "4     In a city of coaching centers known to train I...  \n",
       "...                                                 ...  \n",
       "8802  A political cartoonist, a crime reporter and a...  \n",
       "8803  While living alone in a spooky town, a young g...  \n",
       "8804  Looking to survive in a world taken over by zo...  \n",
       "8805  Dragged from civilian life, a former superhero...  \n",
       "8806  A scrappy but poor boy worms his way into a ty...  \n",
       "\n",
       "[8807 rows x 12 columns]"
      ]
     },
     "execution_count": 165,
     "metadata": {},
     "output_type": "execute_result"
    }
   ],
   "source": [
    "data=pd.read_csv('./dataset/prime.csv')\n",
    "data"
   ]
  },
  {
   "cell_type": "code",
   "execution_count": 166,
   "metadata": {},
   "outputs": [
    {
     "name": "stdout",
     "output_type": "stream",
     "text": [
      "<class 'pandas.core.frame.DataFrame'>\n",
      "RangeIndex: 8807 entries, 0 to 8806\n",
      "Data columns (total 12 columns):\n",
      " #   Column        Non-Null Count  Dtype \n",
      "---  ------        --------------  ----- \n",
      " 0   show_id       8807 non-null   object\n",
      " 1   type          8807 non-null   object\n",
      " 2   title         8807 non-null   object\n",
      " 3   director      6173 non-null   object\n",
      " 4   cast          7982 non-null   object\n",
      " 5   country       7976 non-null   object\n",
      " 6   date_added    8797 non-null   object\n",
      " 7   release_year  8807 non-null   int64 \n",
      " 8   rating        8803 non-null   object\n",
      " 9   duration      8804 non-null   object\n",
      " 10  listed_in     8807 non-null   object\n",
      " 11  description   8807 non-null   object\n",
      "dtypes: int64(1), object(11)\n",
      "memory usage: 825.8+ KB\n"
     ]
    }
   ],
   "source": [
    "data.info()"
   ]
  },
  {
   "cell_type": "markdown",
   "metadata": {},
   "source": [
    "Dropping Unwanted Columns\n",
    "----"
   ]
  },
  {
   "cell_type": "code",
   "execution_count": 167,
   "metadata": {},
   "outputs": [
    {
     "data": {
      "text/html": [
       "<div>\n",
       "<style scoped>\n",
       "    .dataframe tbody tr th:only-of-type {\n",
       "        vertical-align: middle;\n",
       "    }\n",
       "\n",
       "    .dataframe tbody tr th {\n",
       "        vertical-align: top;\n",
       "    }\n",
       "\n",
       "    .dataframe thead th {\n",
       "        text-align: right;\n",
       "    }\n",
       "</style>\n",
       "<table border=\"1\" class=\"dataframe\">\n",
       "  <thead>\n",
       "    <tr style=\"text-align: right;\">\n",
       "      <th></th>\n",
       "      <th>type</th>\n",
       "      <th>title</th>\n",
       "      <th>director</th>\n",
       "      <th>cast</th>\n",
       "      <th>country</th>\n",
       "      <th>date_added</th>\n",
       "      <th>release_year</th>\n",
       "      <th>rating</th>\n",
       "      <th>duration</th>\n",
       "      <th>listed_in</th>\n",
       "    </tr>\n",
       "  </thead>\n",
       "  <tbody>\n",
       "    <tr>\n",
       "      <th>0</th>\n",
       "      <td>Movie</td>\n",
       "      <td>Dick Johnson Is Dead</td>\n",
       "      <td>Kirsten Johnson</td>\n",
       "      <td>NaN</td>\n",
       "      <td>United States</td>\n",
       "      <td>September 25, 2021</td>\n",
       "      <td>2020</td>\n",
       "      <td>PG-13</td>\n",
       "      <td>90 min</td>\n",
       "      <td>Documentaries</td>\n",
       "    </tr>\n",
       "    <tr>\n",
       "      <th>1</th>\n",
       "      <td>TV Show</td>\n",
       "      <td>Blood &amp; Water</td>\n",
       "      <td>NaN</td>\n",
       "      <td>Ama Qamata, Khosi Ngema, Gail Mabalane, Thaban...</td>\n",
       "      <td>South Africa</td>\n",
       "      <td>September 24, 2021</td>\n",
       "      <td>2021</td>\n",
       "      <td>TV-MA</td>\n",
       "      <td>2 Seasons</td>\n",
       "      <td>International TV Shows, TV Dramas, TV Mysteries</td>\n",
       "    </tr>\n",
       "    <tr>\n",
       "      <th>2</th>\n",
       "      <td>TV Show</td>\n",
       "      <td>Ganglands</td>\n",
       "      <td>Julien Leclercq</td>\n",
       "      <td>Sami Bouajila, Tracy Gotoas, Samuel Jouy, Nabi...</td>\n",
       "      <td>NaN</td>\n",
       "      <td>September 24, 2021</td>\n",
       "      <td>2021</td>\n",
       "      <td>TV-MA</td>\n",
       "      <td>1 Season</td>\n",
       "      <td>Crime TV Shows, International TV Shows, TV Act...</td>\n",
       "    </tr>\n",
       "    <tr>\n",
       "      <th>3</th>\n",
       "      <td>TV Show</td>\n",
       "      <td>Jailbirds New Orleans</td>\n",
       "      <td>NaN</td>\n",
       "      <td>NaN</td>\n",
       "      <td>NaN</td>\n",
       "      <td>September 24, 2021</td>\n",
       "      <td>2021</td>\n",
       "      <td>TV-MA</td>\n",
       "      <td>1 Season</td>\n",
       "      <td>Docuseries, Reality TV</td>\n",
       "    </tr>\n",
       "    <tr>\n",
       "      <th>4</th>\n",
       "      <td>TV Show</td>\n",
       "      <td>Kota Factory</td>\n",
       "      <td>NaN</td>\n",
       "      <td>Mayur More, Jitendra Kumar, Ranjan Raj, Alam K...</td>\n",
       "      <td>India</td>\n",
       "      <td>September 24, 2021</td>\n",
       "      <td>2021</td>\n",
       "      <td>TV-MA</td>\n",
       "      <td>2 Seasons</td>\n",
       "      <td>International TV Shows, Romantic TV Shows, TV ...</td>\n",
       "    </tr>\n",
       "  </tbody>\n",
       "</table>\n",
       "</div>"
      ],
      "text/plain": [
       "      type                  title         director  \\\n",
       "0    Movie   Dick Johnson Is Dead  Kirsten Johnson   \n",
       "1  TV Show          Blood & Water              NaN   \n",
       "2  TV Show              Ganglands  Julien Leclercq   \n",
       "3  TV Show  Jailbirds New Orleans              NaN   \n",
       "4  TV Show           Kota Factory              NaN   \n",
       "\n",
       "                                                cast        country  \\\n",
       "0                                                NaN  United States   \n",
       "1  Ama Qamata, Khosi Ngema, Gail Mabalane, Thaban...   South Africa   \n",
       "2  Sami Bouajila, Tracy Gotoas, Samuel Jouy, Nabi...            NaN   \n",
       "3                                                NaN            NaN   \n",
       "4  Mayur More, Jitendra Kumar, Ranjan Raj, Alam K...          India   \n",
       "\n",
       "           date_added  release_year rating   duration  \\\n",
       "0  September 25, 2021          2020  PG-13     90 min   \n",
       "1  September 24, 2021          2021  TV-MA  2 Seasons   \n",
       "2  September 24, 2021          2021  TV-MA   1 Season   \n",
       "3  September 24, 2021          2021  TV-MA   1 Season   \n",
       "4  September 24, 2021          2021  TV-MA  2 Seasons   \n",
       "\n",
       "                                           listed_in  \n",
       "0                                      Documentaries  \n",
       "1    International TV Shows, TV Dramas, TV Mysteries  \n",
       "2  Crime TV Shows, International TV Shows, TV Act...  \n",
       "3                             Docuseries, Reality TV  \n",
       "4  International TV Shows, Romantic TV Shows, TV ...  "
      ]
     },
     "execution_count": 167,
     "metadata": {},
     "output_type": "execute_result"
    }
   ],
   "source": [
    "data.drop(columns={'show_id','description'},inplace=True)\n",
    "data.head(5)"
   ]
  },
  {
   "cell_type": "markdown",
   "metadata": {},
   "source": [
    "Count of Missing Values\n",
    "---"
   ]
  },
  {
   "cell_type": "code",
   "execution_count": 168,
   "metadata": {},
   "outputs": [
    {
     "data": {
      "text/plain": [
       "director      2634\n",
       "cast           825\n",
       "country        831\n",
       "date_added      10\n",
       "rating           4\n",
       "duration         3\n",
       "dtype: int64"
      ]
     },
     "execution_count": 168,
     "metadata": {},
     "output_type": "execute_result"
    }
   ],
   "source": [
    "data.isnull().sum()[data.isnull().sum()>0]"
   ]
  },
  {
   "cell_type": "markdown",
   "metadata": {},
   "source": [
    "Percentage of Missing Values\n",
    "---"
   ]
  },
  {
   "cell_type": "code",
   "execution_count": 169,
   "metadata": {},
   "outputs": [
    {
     "data": {
      "text/html": [
       "<div>\n",
       "<style scoped>\n",
       "    .dataframe tbody tr th:only-of-type {\n",
       "        vertical-align: middle;\n",
       "    }\n",
       "\n",
       "    .dataframe tbody tr th {\n",
       "        vertical-align: top;\n",
       "    }\n",
       "\n",
       "    .dataframe thead th {\n",
       "        text-align: right;\n",
       "    }\n",
       "</style>\n",
       "<table border=\"1\" class=\"dataframe\">\n",
       "  <thead>\n",
       "    <tr style=\"text-align: right;\">\n",
       "      <th></th>\n",
       "      <th>0</th>\n",
       "    </tr>\n",
       "  </thead>\n",
       "  <tbody>\n",
       "    <tr>\n",
       "      <th>director</th>\n",
       "      <td>29.91</td>\n",
       "    </tr>\n",
       "    <tr>\n",
       "      <th>cast</th>\n",
       "      <td>9.37</td>\n",
       "    </tr>\n",
       "    <tr>\n",
       "      <th>country</th>\n",
       "      <td>9.44</td>\n",
       "    </tr>\n",
       "    <tr>\n",
       "      <th>date_added</th>\n",
       "      <td>0.11</td>\n",
       "    </tr>\n",
       "    <tr>\n",
       "      <th>rating</th>\n",
       "      <td>0.05</td>\n",
       "    </tr>\n",
       "    <tr>\n",
       "      <th>duration</th>\n",
       "      <td>0.03</td>\n",
       "    </tr>\n",
       "  </tbody>\n",
       "</table>\n",
       "</div>"
      ],
      "text/plain": [
       "                0\n",
       "director    29.91\n",
       "cast         9.37\n",
       "country      9.44\n",
       "date_added   0.11\n",
       "rating       0.05\n",
       "duration     0.03"
      ]
     },
     "execution_count": 169,
     "metadata": {},
     "output_type": "execute_result"
    }
   ],
   "source": [
    "pn=((data.isnull().sum()[data.isnull().sum()>0]/data.shape[0])*100).round(2).to_frame()\n",
    "pn"
   ]
  },
  {
   "cell_type": "code",
   "execution_count": 170,
   "metadata": {},
   "outputs": [],
   "source": [
    "pn10=pn[pn[0]<10].index.to_list()"
   ]
  },
  {
   "cell_type": "code",
   "execution_count": 171,
   "metadata": {},
   "outputs": [
    {
     "data": {
      "text/plain": [
       "<AxesSubplot: >"
      ]
     },
     "execution_count": 171,
     "metadata": {},
     "output_type": "execute_result"
    },
    {
     "data": {
      "image/png": "[encoded data removed]",
      "text/plain": [
       "<Figure size 640x480 with 2 Axes>"
      ]
     },
     "metadata": {},
     "output_type": "display_data"
    }
   ],
   "source": [
    "sb.heatmap(data.isnull())"
   ]
  },
  {
   "cell_type": "markdown",
   "metadata": {},
   "source": [
    "Dropping Missing values in Columns which has less than 10% of missing values\n",
    "---"
   ]
  },
  {
   "cell_type": "code",
   "execution_count": 172,
   "metadata": {},
   "outputs": [],
   "source": [
    "data.dropna(subset=pn10,inplace=True)"
   ]
  },
  {
   "cell_type": "code",
   "execution_count": 173,
   "metadata": {},
   "outputs": [
    {
     "data": {
      "text/plain": [
       "director    26.86\n",
       "dtype: float64"
      ]
     },
     "execution_count": 173,
     "metadata": {},
     "output_type": "execute_result"
    }
   ],
   "source": [
    "((data.isnull().sum()[data.isnull().sum()>0]/data.shape[0])*100).round(2)"
   ]
  },
  {
   "cell_type": "code",
   "execution_count": 174,
   "metadata": {},
   "outputs": [
    {
     "data": {
      "text/plain": [
       "type            0\n",
       "title           0\n",
       "director        0\n",
       "cast            0\n",
       "country         0\n",
       "date_added      0\n",
       "release_year    0\n",
       "rating          0\n",
       "duration        0\n",
       "listed_in       0\n",
       "dtype: int64"
      ]
     },
     "execution_count": 174,
     "metadata": {},
     "output_type": "execute_result"
    }
   ],
   "source": [
    "data['director'].fillna('Unavailable', inplace=True)\n",
    "data.isnull().sum()"
   ]
  },
  {
   "cell_type": "code",
   "execution_count": 175,
   "metadata": {},
   "outputs": [
    {
     "name": "stdout",
     "output_type": "stream",
     "text": [
      "<class 'pandas.core.frame.DataFrame'>\n",
      "Int64Index: 7290 entries, 1 to 8806\n",
      "Data columns (total 10 columns):\n",
      " #   Column        Non-Null Count  Dtype \n",
      "---  ------        --------------  ----- \n",
      " 0   type          7290 non-null   object\n",
      " 1   title         7290 non-null   object\n",
      " 2   director      7290 non-null   object\n",
      " 3   cast          7290 non-null   object\n",
      " 4   country       7290 non-null   object\n",
      " 5   date_added    7290 non-null   object\n",
      " 6   release_year  7290 non-null   int64 \n",
      " 7   rating        7290 non-null   object\n",
      " 8   duration      7290 non-null   object\n",
      " 9   listed_in     7290 non-null   object\n",
      "dtypes: int64(1), object(9)\n",
      "memory usage: 626.5+ KB\n"
     ]
    }
   ],
   "source": [
    "data.info()"
   ]
  },
  {
   "cell_type": "markdown",
   "metadata": {},
   "source": [
    "Handling Duplicates\n",
    "---"
   ]
  },
  {
   "cell_type": "code",
   "execution_count": 176,
   "metadata": {},
   "outputs": [
    {
     "data": {
      "text/plain": [
       "0"
      ]
     },
     "execution_count": 176,
     "metadata": {},
     "output_type": "execute_result"
    }
   ],
   "source": [
    "data.duplicated().sum()"
   ]
  },
  {
   "cell_type": "markdown",
   "metadata": {},
   "source": [
    "EDA\n",
    "---"
   ]
  },
  {
   "cell_type": "markdown",
   "metadata": {},
   "source": [
    "Director column"
   ]
  },
  {
   "cell_type": "code",
   "execution_count": 177,
   "metadata": {},
   "outputs": [
    {
     "data": {
      "text/plain": [
       "3946"
      ]
     },
     "execution_count": 177,
     "metadata": {},
     "output_type": "execute_result"
    }
   ],
   "source": [
    "len(data['director'].unique())"
   ]
  },
  {
   "cell_type": "markdown",
   "metadata": {},
   "source": [
    "Country Column"
   ]
  },
  {
   "cell_type": "code",
   "execution_count": 178,
   "metadata": {},
   "outputs": [
    {
     "data": {
      "text/plain": [
       "{'United States': 2479,\n",
       " 'India': 940,\n",
       " 'United Kingdom': 350,\n",
       " 'Japan': 238,\n",
       " 'South Korea': 196,\n",
       " 'Canada': 162,\n",
       " 'Spain': 127,\n",
       " 'France': 106,\n",
       " 'Egypt': 105,\n",
       " 'Turkey': 105,\n",
       " 'Mexico': 102,\n",
       " 'Nigeria': 93,\n",
       " 'Taiwan': 81,\n",
       " 'Indonesia': 78,\n",
       " 'Philippines': 75,\n",
       " 'Australia': 75,\n",
       " 'United States, Canada': 72,\n",
       " 'United Kingdom, United States': 71,\n",
       " 'Brazil': 68,\n",
       " 'China': 66,\n",
       " 'Germany': 61,\n",
       " 'Thailand': 60,\n",
       " 'Hong Kong': 53,\n",
       " 'Argentina': 51,\n",
       " 'United States, United Kingdom': 44,\n",
       " 'Canada, United States': 42,\n",
       " 'Italy': 41,\n",
       " 'Colombia': 33,\n",
       " 'South Africa': 28,\n",
       " 'France, Belgium': 27,\n",
       " 'Poland': 23,\n",
       " 'Singapore': 23,\n",
       " 'Malaysia': 20,\n",
       " 'Pakistan': 18,\n",
       " 'Netherlands': 18,\n",
       " 'Hong Kong, China': 16,\n",
       " 'United States, Germany': 16,\n",
       " 'United States, Japan': 16,\n",
       " 'United States, France': 15,\n",
       " 'Lebanon': 15,\n",
       " 'China, Hong Kong': 14,\n",
       " 'Chile': 14,\n",
       " 'Russia': 13,\n",
       " 'Sweden': 13,\n",
       " 'Germany, United States': 13,\n",
       " 'Denmark': 13,\n",
       " 'United Arab Emirates': 13,\n",
       " 'Mexico, United States': 12,\n",
       " 'Japan, United States': 11,\n",
       " 'United States, Australia': 11,\n",
       " 'France, United States': 10,\n",
       " 'India, United States': 10,\n",
       " 'New Zealand': 10,\n",
       " 'Australia, United States': 10,\n",
       " 'Israel': 10,\n",
       " 'Norway': 9,\n",
       " 'Ireland': 9,\n",
       " 'United States, India': 8,\n",
       " 'Argentina, Spain': 8,\n",
       " 'United States, Mexico': 8,\n",
       " 'Saudi Arabia': 8,\n",
       " 'United States, China': 8,\n",
       " 'Vietnam': 7,\n",
       " 'United States, France, Japan': 7,\n",
       " 'United Kingdom, Canada, United States': 7,\n",
       " 'Belgium': 7,\n",
       " 'South Korea, United States': 6,\n",
       " 'Kuwait': 6,\n",
       " 'United Kingdom, France': 6,\n",
       " 'Romania': 6,\n",
       " 'Iceland': 5,\n",
       " 'Spain, France': 5,\n",
       " 'India, France': 5,\n",
       " 'United States, New Zealand': 5,\n",
       " 'Israel, United States': 5,\n",
       " 'Hungary': 4,\n",
       " 'United States, Italy': 4,\n",
       " 'Austria': 4,\n",
       " 'Mexico, Spain': 4,\n",
       " 'South Africa, United States': 4,\n",
       " 'United States, United Kingdom, Australia': 4,\n",
       " 'Hong Kong, United States': 4,\n",
       " 'Italy, France': 4,\n",
       " 'United Kingdom, United States, Spain, Germany, Greece, Canada': 4,\n",
       " 'United States, Bulgaria': 4,\n",
       " 'United States, United Kingdom, France': 4,\n",
       " 'United Kingdom, Germany': 4,\n",
       " 'United Kingdom, France, United States': 4,\n",
       " 'United Kingdom, Canada': 4,\n",
       " 'Peru': 3,\n",
       " 'France, Canada': 3,\n",
       " 'Italy, United States': 3,\n",
       " 'Spain, Germany': 3,\n",
       " 'United Kingdom, Japan, United States': 3,\n",
       " 'China, United Kingdom': 3,\n",
       " 'United States, Spain': 3,\n",
       " 'Canada, United States, United Kingdom': 3,\n",
       " 'Bangladesh': 3,\n",
       " 'United States, Colombia': 3,\n",
       " 'Kenya': 3,\n",
       " 'Bulgaria, United States': 3,\n",
       " 'Spain, Argentina': 3,\n",
       " 'China, Canada, United States': 3,\n",
       " 'Belgium, France': 3,\n",
       " 'United States, Chile': 3,\n",
       " 'Ghana': 3,\n",
       " 'France, Egypt': 3,\n",
       " 'United States, Hong Kong': 3,\n",
       " 'United States, United Arab Emirates': 3,\n",
       " 'United Kingdom, United States, Australia': 3,\n",
       " 'United States, Sweden': 3,\n",
       " 'United States, Ireland': 3,\n",
       " 'United Kingdom, Ireland': 3,\n",
       " 'United States, South Africa': 3,\n",
       " 'United States, Russia': 3,\n",
       " 'Poland, United States': 3,\n",
       " 'United States, Germany, Canada': 3,\n",
       " 'Spain, Italy': 2,\n",
       " 'Australia, United Arab Emirates': 2,\n",
       " 'United States, Thailand': 2,\n",
       " 'Canada, United Kingdom, United States': 2,\n",
       " 'Spain, Mexico': 2,\n",
       " 'Denmark, United States': 2,\n",
       " 'Ukraine': 2,\n",
       " 'Canada, United States, France': 2,\n",
       " 'United States, Japan, Canada': 2,\n",
       " 'India, Soviet Union': 2,\n",
       " 'United States, South Korea': 2,\n",
       " 'Portugal, Spain': 2,\n",
       " 'Brazil, France': 2,\n",
       " 'Canada, India': 2,\n",
       " 'China, United States': 2,\n",
       " 'Spain, United Kingdom': 2,\n",
       " 'Canada, Australia': 2,\n",
       " 'Switzerland': 2,\n",
       " 'Singapore, United States': 2,\n",
       " 'India, Germany': 2,\n",
       " 'Australia, Canada': 2,\n",
       " 'Ireland, United Kingdom, United States': 2,\n",
       " 'United States, South Korea, China': 2,\n",
       " 'United Kingdom, Italy': 2,\n",
       " 'Egypt, France': 2,\n",
       " 'Indonesia, Singapore': 2,\n",
       " 'Hong Kong, China, United States': 2,\n",
       " 'United Kingdom, Nigeria': 2,\n",
       " 'United Kingdom, India': 2,\n",
       " 'Norway, Iceland, United States': 2,\n",
       " 'Turkey, United States': 2,\n",
       " 'Uruguay': 2,\n",
       " 'Czech Republic, United States': 2,\n",
       " 'Colombia, Mexico, United States': 2,\n",
       " 'Germany, United Kingdom': 2,\n",
       " 'United States, Greece': 2,\n",
       " 'Serbia, United States': 2,\n",
       " 'Canada, United Kingdom': 2,\n",
       " 'Argentina, Chile': 2,\n",
       " 'United Arab Emirates, United States': 2,\n",
       " 'United States, Czech Republic': 2,\n",
       " 'New Zealand, United States': 2,\n",
       " 'Australia, United Kingdom': 2,\n",
       " 'United Kingdom, Belgium': 2,\n",
       " 'China, Taiwan': 2,\n",
       " 'France, Japan, United States': 2,\n",
       " 'Jordan': 2,\n",
       " 'United States, United Kingdom, Canada': 2,\n",
       " 'United States, China, Hong Kong': 2,\n",
       " 'Canada, South Africa': 2,\n",
       " 'United Kingdom, Germany, United States': 2,\n",
       " 'United States, Nigeria': 2,\n",
       " 'Germany, Czech Republic': 2,\n",
       " 'India, United Kingdom': 2,\n",
       " 'Belgium, Netherlands': 2,\n",
       " 'United Kingdom, United States, France': 2,\n",
       " 'United Kingdom, France, Germany, United States': 2,\n",
       " 'Denmark, Sweden, Israel, United States': 1,\n",
       " 'United States, Iceland': 1,\n",
       " 'Thailand, Canada, United States': 1,\n",
       " 'United Kingdom, Australia, Canada, United States': 1,\n",
       " 'United Kingdom, Russia': 1,\n",
       " 'United States, Israel, Italy, South Africa': 1,\n",
       " 'South Korea, Japan': 1,\n",
       " 'United Kingdom, Pakistan': 1,\n",
       " 'France, Belgium, Spain': 1,\n",
       " 'United Kingdom, China, United States': 1,\n",
       " 'India, Iran': 1,\n",
       " 'Germany, United States, Italy': 1,\n",
       " 'Australia, United Kingdom, United Arab Emirates, Canada': 1,\n",
       " 'France, United States, Mexico': 1,\n",
       " 'Ireland, Canada, United States, United Kingdom': 1,\n",
       " 'Sweden, Netherlands': 1,\n",
       " 'United Kingdom, Brazil, Germany': 1,\n",
       " 'Bulgaria, United States, Spain, Canada': 1,\n",
       " 'Canada, France': 1,\n",
       " 'France, Canada, Belgium': 1,\n",
       " 'Brazil, Netherlands, United States, Colombia, Austria, Germany': 1,\n",
       " 'Canada, Luxembourg': 1,\n",
       " 'United Kingdom, France, Germany': 1,\n",
       " 'Canada, United States, India, United Kingdom': 1,\n",
       " 'New Zealand, United Kingdom, Australia': 1,\n",
       " 'United States, India, Bangladesh': 1,\n",
       " 'Germany, Canada, United States': 1,\n",
       " 'Denmark, United Kingdom, South Africa, Sweden, Belgium': 1,\n",
       " 'Pakistan, Norway, United States': 1,\n",
       " 'Germany, Belgium': 1,\n",
       " 'United States, Australia, South Africa, United Kingdom': 1,\n",
       " 'France, China, Japan, United States': 1,\n",
       " 'United Kingdom, Czech Republic, Germany, United States': 1,\n",
       " 'United States, Australia, Mexico': 1,\n",
       " 'United States, Germany, Mexico': 1,\n",
       " 'Denmark, France, Belgium, Italy, Netherlands, United States, United Kingdom': 1,\n",
       " 'United States, Italy, United Kingdom, Liechtenstein': 1,\n",
       " 'Somalia, Kenya, Sudan, South Africa, United States': 1,\n",
       " 'South Africa, United States, New Zealand, Canada': 1,\n",
       " 'Finland, Sweden, Norway, Latvia, Germany': 1,\n",
       " 'United Kingdom, South Africa': 1,\n",
       " 'United Kingdom, Poland, United States': 1,\n",
       " 'Germany, Australia': 1,\n",
       " 'Taiwan, Hong Kong, United States, China': 1,\n",
       " 'United Kingdom, Canada, Italy': 1,\n",
       " 'Germany, France, Luxembourg, United Kingdom, United States': 1,\n",
       " 'United States, Canada, Japan, Panama': 1,\n",
       " 'France, Germany, Switzerland': 1,\n",
       " 'Germany, United States, Hong Kong, Singapore': 1,\n",
       " 'Brazil, France, Germany': 1,\n",
       " 'United States, Canada, France': 1,\n",
       " 'United Kingdom, Spain, Belgium': 1,\n",
       " 'Germany, Sri Lanka': 1,\n",
       " 'United Kingdom, Czech Republic, United States, Germany, Bahamas': 1,\n",
       " 'Serbia, South Korea, Slovenia': 1,\n",
       " 'Australia, France': 1,\n",
       " 'New Zealand, United Kingdom': 1,\n",
       " 'United Kingdom, United States, France, Germany': 1,\n",
       " 'Iran, France': 1,\n",
       " 'Egypt, Austria, United States': 1,\n",
       " 'Russia, Spain': 1,\n",
       " 'South Africa, United States, Germany': 1,\n",
       " 'Spain, Switzerland': 1,\n",
       " 'Singapore, France': 1,\n",
       " 'Czech Republic, Slovakia': 1,\n",
       " 'France, United Kingdom, India': 1,\n",
       " 'Croatia, Slovenia, Serbia, Montenegro': 1,\n",
       " 'Chile, France': 1,\n",
       " 'United Kingdom, France, Belgium, United States': 1,\n",
       " 'France, Canada, China, Cambodia': 1,\n",
       " 'United Kingdom, France, United States, Belgium': 1,\n",
       " 'Argentina, Uruguay, Spain, France': 1,\n",
       " 'United Kingdom, Italy, Israel, Peru, United States': 1,\n",
       " 'United States, Colombia, Mexico': 1,\n",
       " 'Cambodia, United States': 1,\n",
       " 'France, Morocco': 1,\n",
       " 'Norway, Germany': 1,\n",
       " 'Turkey, France, Germany, Poland': 1,\n",
       " 'Japan, Canada': 1,\n",
       " 'Germany, Jordan, Netherlands': 1,\n",
       " 'India, Malaysia': 1,\n",
       " 'United Arab Emirates, Romania': 1,\n",
       " 'Georgia, Germany, France': 1,\n",
       " 'India, Mexico': 1,\n",
       " 'South Korea, China, United States': 1,\n",
       " 'Canada, Germany, South Africa': 1,\n",
       " 'United States, France, South Korea, Indonesia': 1,\n",
       " 'Soviet Union, India': 1,\n",
       " 'United States, East Germany, West Germany': 1,\n",
       " 'Spain, Italy, Argentina': 1,\n",
       " 'Chile, Spain, Argentina, Germany': 1,\n",
       " 'Belgium, France, Netherlands': 1,\n",
       " 'Netherlands, Denmark, South Africa': 1,\n",
       " 'Venezuela': 1,\n",
       " 'Denmark, France, Poland': 1,\n",
       " 'South Africa, China, United States': 1,\n",
       " 'Hong Kong, China, Singapore': 1,\n",
       " 'Spain, Mexico, France': 1,\n",
       " 'United States, France, United Kingdom': 1,\n",
       " 'United Kingdom, Egypt, United States': 1,\n",
       " 'Switzerland, United Kingdom, United States': 1,\n",
       " 'United States, Hungary, Ireland, Canada': 1,\n",
       " 'United States, Bermuda, Ecuador': 1,\n",
       " 'Norway, United States': 1,\n",
       " 'Germany, Australia, France, China': 1,\n",
       " 'Chile, United States, France': 1,\n",
       " 'Austria, Czech Republic': 1,\n",
       " 'Ireland, South Africa': 1,\n",
       " 'United Kingdom, Germany, Canada': 1,\n",
       " 'United States, United Kingdom, Germany': 1,\n",
       " 'France, Qatar': 1,\n",
       " 'United States, Hungary': 1,\n",
       " 'Canada, Japan, Netherlands': 1,\n",
       " 'United Kingdom, India, Sweden': 1,\n",
       " 'Israel, Germany, France': 1,\n",
       " 'United States, Argentina': 1,\n",
       " 'France, South Korea, Japan': 1,\n",
       " 'United Kingdom, Jordan, Qatar, Iran': 1,\n",
       " 'Germany, United States, United Kingdom, Canada': 1,\n",
       " 'Lebanon, Qatar': 1,\n",
       " 'United States, Canada, Belgium, United Kingdom': 1,\n",
       " 'Spain, Cuba': 1,\n",
       " 'Canada, Spain, France': 1,\n",
       " 'United Kingdom, Thailand': 1,\n",
       " 'Canada, Mexico, Germany, South Africa': 1,\n",
       " 'Singapore, Japan, France': 1,\n",
       " 'United States, Morocco': 1,\n",
       " 'Ireland, Canada, Luxembourg, United States, United Kingdom, Philippines, India': 1,\n",
       " 'India, Switzerland': 1,\n",
       " 'United States, Netherlands, Japan, France': 1,\n",
       " 'United States, New Zealand, Japan': 1,\n",
       " 'Portugal, France, Poland, United States': 1,\n",
       " 'Switzerland, Vatican City, Italy, Germany, France': 1,\n",
       " 'United States, Czech Republic, United Kingdom': 1,\n",
       " 'France, Germany, Czech Republic, Belgium': 1,\n",
       " 'Colombia, United States': 1,\n",
       " 'Israel, Germany': 1,\n",
       " 'South Korea, China': 1,\n",
       " 'United Kingdom, United States, Canada': 1,\n",
       " 'China, Morocco, Hong Kong': 1,\n",
       " 'Australia, Iraq': 1,\n",
       " 'Denmark, France, United States, Sweden': 1,\n",
       " 'Brazil, India, China, United States': 1,\n",
       " 'France, Switzerland, Spain, United States, United Arab Emirates': 1,\n",
       " 'Denmark, Germany, Belgium, United Kingdom, France, Sweden': 1,\n",
       " 'Denmark, Germany, Belgium, United Kingdom, France': 1,\n",
       " 'United States, India, South Korea, China': 1,\n",
       " 'Chile, Argentina, France, Spain, United States': 1,\n",
       " 'Switzerland, France': 1,\n",
       " 'Mexico, France': 1,\n",
       " 'Israel, Sweden, Germany, Netherlands': 1,\n",
       " 'Pakistan, United States': 1,\n",
       " 'United States, Canada, China': 1,\n",
       " 'Germany, France, United States, Canada, United Kingdom': 1,\n",
       " 'United States, Indonesia': 1,\n",
       " 'Argentina, France, United States, Germany, Qatar': 1,\n",
       " 'Switzerland, United States': 1,\n",
       " 'United Kingdom, New Zealand': 1,\n",
       " 'Canada, France, United States': 1,\n",
       " 'Italy, France, Switzerland': 1,\n",
       " 'Czech Republic, United Kingdom, France': 1,\n",
       " 'United States, Germany, United Kingdom, Australia': 1,\n",
       " 'Australia, United Kingdom, Canada': 1,\n",
       " 'Jamaica, United States': 1,\n",
       " 'Italy, South Africa, West Germany, Australia, United States': 1,\n",
       " 'France, United States, Canada': 1,\n",
       " 'United Kingdom, France, Canada, Belgium, United States': 1,\n",
       " 'Denmark, United Kingdom, Sweden': 1,\n",
       " 'Guatemala': 1,\n",
       " 'United States, United Kingdom, Spain, South Korea': 1,\n",
       " 'France, Canada, United States': 1,\n",
       " 'United States, Germany, United Kingdom': 1,\n",
       " 'Hong Kong, Taiwan': 1,\n",
       " 'United States, Germany, United Kingdom, Italy': 1,\n",
       " 'Sweden, United Kingdom, Finland': 1,\n",
       " 'United States, New Zealand, United Kingdom': 1,\n",
       " 'United States, United Kingdom, Canada, Japan': 1,\n",
       " 'Australia, India': 1,\n",
       " 'Australia, France, Ireland': 1,\n",
       " 'United States, Germany, Australia': 1,\n",
       " 'Ireland, Canada, United Kingdom, United States': 1,\n",
       " 'Finland, United States': 1,\n",
       " 'Spain, France, Uruguay': 1,\n",
       " 'India, Canada': 1,\n",
       " 'United Kingdom, Poland': 1,\n",
       " 'Norway, United Kingdom, France, Ireland': 1,\n",
       " 'Israel, Germany, Poland, Luxembourg, Belgium, France, United States': 1,\n",
       " 'United States, United Kingdom, Italy': 1,\n",
       " 'Belgium, Ireland, Netherlands, Germany, Afghanistan': 1,\n",
       " 'United Kingdom, United States, Dominican Republic': 1,\n",
       " 'Canada, Ireland, United States': 1,\n",
       " 'United Kingdom, France, Belgium': 1,\n",
       " 'India, Japan': 1,\n",
       " 'United States, Spain, Germany': 1,\n",
       " 'Slovenia, Croatia, Germany, Czech Republic, Qatar': 1,\n",
       " 'Poland,': 1,\n",
       " 'France, Canada, Italy, United States, China': 1,\n",
       " 'Ireland, United States': 1,\n",
       " 'United States, Canada, Germany': 1,\n",
       " 'Russia, United States, China': 1,\n",
       " 'United States, France, Canada, Spain': 1,\n",
       " 'United States, United Kingdom, Denmark, Sweden': 1,\n",
       " 'United States, Cambodia': 1,\n",
       " 'United States, France, United Kingdom, Japan': 1,\n",
       " 'Italy, Germany': 1,\n",
       " 'United Kingdom, Denmark, Canada, Croatia': 1,\n",
       " 'Thailand, United States': 1,\n",
       " 'Italy, Canada, France': 1,\n",
       " 'Ireland, United Kingdom, Greece, France, Netherlands': 1,\n",
       " 'France, United Kingdom, United States': 1,\n",
       " 'United States, Nicaragua': 1,\n",
       " 'United States, France, Mexico': 1,\n",
       " 'United States, Brazil': 1,\n",
       " 'China, Hong Kong, United States': 1,\n",
       " 'United Arab Emirates, United States, United Kingdom': 1,\n",
       " 'Spain, France, Italy': 1,\n",
       " 'Germany, United Kingdom, United States': 1,\n",
       " 'South Africa, Germany, Netherlands, France': 1,\n",
       " 'Canada, United States, United Kingdom, France, Luxembourg': 1,\n",
       " 'Ireland, United States, France': 1,\n",
       " 'Canada, Spain': 1,\n",
       " 'Poland, West Germany': 1,\n",
       " 'Turkey, Azerbaijan': 1,\n",
       " 'Argentina, Chile, Peru': 1,\n",
       " 'South Korea, France': 1,\n",
       " 'United States, Greece, Brazil': 1,\n",
       " 'United Kingdom, South Korea': 1,\n",
       " 'Austria, United States': 1,\n",
       " 'United Kingdom, Lithuania': 1,\n",
       " 'United States, Greece, United Kingdom': 1,\n",
       " 'China, India, Nepal': 1,\n",
       " 'Norway, Denmark, Sweden': 1,\n",
       " 'United Kingdom, China, United States, India': 1,\n",
       " 'United Kingdom, Norway, Denmark, Germany, Sweden': 1,\n",
       " 'United States, Sweden, Norway': 1,\n",
       " 'United Kingdom, United States, Morocco': 1,\n",
       " 'United States, Chile, Israel': 1,\n",
       " 'France, Belgium, China, United States': 1,\n",
       " 'Netherlands, Belgium, United Kingdom, United States': 1,\n",
       " 'United States, France, Canada, Lebanon, Qatar': 1,\n",
       " 'United Kingdom, Germany, Canada, United States': 1,\n",
       " 'United States, United Kingdom, Morocco': 1,\n",
       " 'Spain, Canada, United States': 1,\n",
       " 'United States, India, United Arab Emirates': 1,\n",
       " 'United Kingdom, Canada, France, United States': 1,\n",
       " 'India, Germany, France': 1,\n",
       " 'Germany, United States, Canada': 1,\n",
       " 'Canada, United States, Germany': 1,\n",
       " 'Malaysia, Singapore, Hong Kong': 1,\n",
       " 'Norway, Germany, Sweden': 1,\n",
       " 'United Kingdom, Singapore': 1,\n",
       " 'Lebanon, United States, United Arab Emirates': 1,\n",
       " 'France, Belgium, Italy': 1,\n",
       " 'Lebanon, United Arab Emirates, France, Switzerland, Germany': 1,\n",
       " 'Canada, Belgium': 1,\n",
       " 'Ireland, Luxembourg, Belgium': 1,\n",
       " 'Spain, Thailand, United States': 1,\n",
       " 'United States, China, Colombia': 1,\n",
       " 'United States, France, Denmark': 1,\n",
       " 'Denmark, Singapore, Canada, United States': 1,\n",
       " 'Spain, France, Canada': 1,\n",
       " 'Japan, Canada, United States': 1,\n",
       " 'Canada, United States, Ireland': 1,\n",
       " 'United States, China, Canada': 1,\n",
       " 'United States, Malta, France, United Kingdom': 1,\n",
       " 'United States, Ireland, United Kingdom, India': 1,\n",
       " 'Chile, Brazil': 1,\n",
       " 'United States, France, Serbia': 1,\n",
       " 'Ireland, France, Iceland, United States, Mexico, Belgium, United Kingdom, Hong Kong': 1,\n",
       " 'Philippines, Canada, United Kingdom, United States': 1,\n",
       " 'United Kingdom, Finland, Germany, United States, Australia, Japan, France, Ireland': 1,\n",
       " 'France, Algeria': 1,\n",
       " 'Senegal': 1,\n",
       " 'United Kingdom, Germany, France, United States': 1,\n",
       " 'Canada, Hungary, United States': 1,\n",
       " 'Canada, United States, Cayman Islands': 1,\n",
       " 'Hungary, United States': 1,\n",
       " 'United Kingdom, Spain, United States': 1,\n",
       " 'Portugal, United States': 1,\n",
       " 'Spain, Belgium, United States': 1,\n",
       " 'United States, Cambodia, Romania': 1,\n",
       " 'Lebanon, France': 1,\n",
       " 'France, Lebanon': 1,\n",
       " 'France, Lebanon, United Kingdom': 1,\n",
       " 'France, Norway, Lebanon, Belgium': 1,\n",
       " 'France, Brazil, Spain, Belgium': 1,\n",
       " 'Switzerland, France, Belgium, United States': 1,\n",
       " 'Indonesia, United Kingdom': 1,\n",
       " 'Belarus': 1,\n",
       " 'United Kingdom, Australia': 1,\n",
       " 'France, Belgium, Luxembourg, Cambodia,': 1,\n",
       " 'China, Spain, South Korea, United States': 1,\n",
       " 'Mozambique': 1,\n",
       " 'Peru, Germany, Norway': 1,\n",
       " 'United States, Canada, United Kingdom': 1,\n",
       " 'United States, United Kingdom, Canada, China': 1,\n",
       " 'United States, Philippines': 1,\n",
       " 'South Africa, Angola': 1,\n",
       " 'United States, Belgium, Canada, France': 1,\n",
       " 'France, Australia, Germany': 1,\n",
       " 'Hong Kong, Iceland, United States': 1,\n",
       " 'Australia, New Zealand, United States': 1,\n",
       " 'Germany, China, United Kingdom': 1,\n",
       " 'United Kingdom, China': 1,\n",
       " 'United States, France, Canada, Belgium': 1,\n",
       " 'United Kingdom, France, United States, Belgium, Luxembourg, China, Germany': 1,\n",
       " 'United Kingdom, France, Germany, Spain': 1,\n",
       " 'United Kingdom, Kenya': 1,\n",
       " 'Namibia': 1,\n",
       " 'Turkey, South Korea': 1,\n",
       " 'Indonesia, Netherlands': 1,\n",
       " 'United States, United Kingdom, India': 1,\n",
       " 'Sweden, Czech Republic, United Kingdom, Denmark, Netherlands': 1,\n",
       " 'Lebanon, Canada, France': 1,\n",
       " 'Luxembourg': 1,\n",
       " 'India, United Kingdom, France, Qatar': 1,\n",
       " 'Netherlands, Belgium, Germany, Jordan': 1,\n",
       " 'Switzerland, United Kingdom, Australia': 1,\n",
       " 'United Kingdom, Australia, United States': 1,\n",
       " 'Australia, Germany': 1,\n",
       " 'South Korea, Czech Republic': 1,\n",
       " 'Australia, New Zealand': 1,\n",
       " 'Ireland, United States, United Kingdom': 1,\n",
       " 'France, Netherlands, Singapore': 1,\n",
       " 'France, Canada, United States, Spain': 1,\n",
       " 'Kuwait, United States': 1,\n",
       " 'Hong Kong, Canada, United States': 1,\n",
       " 'United States, Switzerland': 1,\n",
       " 'France, Israel, Germany, United States, United Kingdom': 1,\n",
       " ', France, Algeria': 1,\n",
       " 'Spain, France, United Kingdom, United States': 1,\n",
       " 'Spain, United Kingdom, United States': 1,\n",
       " 'Italy, Brazil, Greece': 1,\n",
       " 'United States, India, United Kingdom': 1,\n",
       " 'New Zealand, Australia, France, United States': 1,\n",
       " 'India, Nepal': 1,\n",
       " ', South Korea': 1,\n",
       " 'Argentina, Venezuela': 1,\n",
       " 'United States, Italy, Romania, United Kingdom': 1,\n",
       " 'United States, Italy, France, Japan': 1,\n",
       " 'United Kingdom, Australia, France, United States': 1,\n",
       " 'United Kingdom, Australia, France': 1,\n",
       " 'United States, Singapore': 1,\n",
       " 'Spain, United States': 1,\n",
       " 'South Africa, United States, Japan': 1,\n",
       " 'Finland': 1,\n",
       " 'United States, India, France': 1,\n",
       " 'United States, Ghana, Burkina Faso, United Kingdom, Germany, Ethiopia': 1,\n",
       " 'United Kingdom, Germany, Spain, United States': 1,\n",
       " 'United Kingdom, United States, France, Italy': 1,\n",
       " 'United States, France, Italy, United Kingdom': 1,\n",
       " 'United States, United Kingdom, Germany, Hungary': 1,\n",
       " 'United Kingdom,': 1,\n",
       " 'Russia, United States': 1,\n",
       " 'Ireland, United Kingdom, France, Germany': 1,\n",
       " 'United Kingdom, South Africa, France': 1,\n",
       " 'Ireland, Switzerland, United Kingdom, France, United States': 1,\n",
       " 'United Kingdom, France, Poland, Germany, United States': 1,\n",
       " 'Egypt, Saudi Arabia': 1,\n",
       " 'Cameroon': 1,\n",
       " 'Italy, United Kingdom': 1,\n",
       " 'Czech Republic, United Kingdom, United States': 1,\n",
       " 'Canada, United States, Mexico': 1,\n",
       " 'France, United Kingdom': 1,\n",
       " 'France, United States, United Kingdom, Canada': 1,\n",
       " 'Canada, Nigeria, United States': 1,\n",
       " 'United States, United Kingdom, New Zealand': 1,\n",
       " 'United Kingdom, France, Spain, United States': 1,\n",
       " 'Germany, France': 1,\n",
       " 'Mexico, Brazil': 1,\n",
       " 'Mauritius': 1,\n",
       " 'Syria, France, Lebanon, Qatar': 1,\n",
       " 'Norway, Denmark': 1,\n",
       " 'Germany, United States, France': 1,\n",
       " 'Mexico, France, Colombia': 1,\n",
       " 'Canada, United States, Denmark': 1,\n",
       " 'Lebanon, United Arab Emirates': 1,\n",
       " 'China, United States, Canada': 1,\n",
       " 'Philippines, Singapore, Indonesia': 1,\n",
       " 'Lebanon, Syria': 1,\n",
       " 'Finland, Germany': 1,\n",
       " 'Egypt, Algeria': 1,\n",
       " 'Canada, South Korea, United States': 1,\n",
       " 'Nigeria, United Kingdom': 1,\n",
       " 'United Kingdom, Malawi': 1,\n",
       " 'Mexico, Netherlands': 1,\n",
       " 'Italy, Switzerland, France, Germany': 1,\n",
       " 'Ireland, Canada': 1,\n",
       " 'Norway, Denmark, Netherlands, Sweden': 1,\n",
       " 'United Kingdom, Japan': 1,\n",
       " 'Canada, Germany, France, United States': 1,\n",
       " 'United Kingdom, Ireland, United States': 1,\n",
       " 'Uruguay, Argentina, Spain': 1,\n",
       " 'Croatia': 1,\n",
       " 'Iceland, Sweden, Belgium': 1,\n",
       " 'Spain, Belgium': 1,\n",
       " 'India, Pakistan': 1,\n",
       " 'United Kingdom, Russia, United States': 1,\n",
       " 'Paraguay, Argentina': 1,\n",
       " 'United States, Taiwan': 1,\n",
       " 'United States, France, Canada': 1,\n",
       " 'Netherlands, Belgium': 1,\n",
       " 'United Arab Emirates, United Kingdom, India': 1,\n",
       " 'Mexico, Finland': 1,\n",
       " 'Ghana, United States': 1,\n",
       " 'Pakistan, United Arab Emirates': 1,\n",
       " 'Canada, Germany': 1,\n",
       " 'Canada, Brazil': 1,\n",
       " 'Chile, Argentina': 1,\n",
       " 'France, Luxembourg, Canada': 1,\n",
       " 'Uruguay, Spain, Mexico': 1,\n",
       " 'Argentina, United States': 1,\n",
       " 'Thailand, China, United States': 1,\n",
       " 'Colombia, Peru, United Kingdom': 1,\n",
       " 'Taiwan, China, France, United States': 1,\n",
       " 'France, Iran, United States': 1,\n",
       " 'Russia, Poland, Serbia': 1,\n",
       " 'Spain, Portugal': 1,\n",
       " 'Mexico, Argentina': 1,\n",
       " 'Philippines, Qatar': 1,\n",
       " 'United Kingdom, Spain, United States, Germany': 1,\n",
       " 'Argentina, Brazil, France, Poland, Germany, Denmark': 1,\n",
       " 'Bulgaria': 1,\n",
       " 'United Kingdom, South Africa, Australia, United States': 1,\n",
       " 'Spain, Colombia': 1,\n",
       " 'United States, Canada, Indonesia, United Kingdom, China, Singapore': 1,\n",
       " 'Saudi Arabia, Syria, Egypt, Lebanon, Kuwait': 1,\n",
       " 'Cambodia': 1,\n",
       " 'Italy, Switzerland, Albania, Poland': 1,\n",
       " 'United Kingdom, Canada, United States, Germany': 1,\n",
       " 'Canada, Japan, United States': 1,\n",
       " 'Chile, Peru': 1,\n",
       " 'United States, Canada, Ireland': 1,\n",
       " 'Colombia, Mexico': 1,\n",
       " 'China, United States, Australia': 1,\n",
       " 'France, Luxembourg, United States': 1,\n",
       " 'China, United States, United Kingdom': 1,\n",
       " 'Argentina, France': 1,\n",
       " 'China, Japan': 1,\n",
       " 'United States, Brazil, South Korea, Mexico, Japan, Germany': 1,\n",
       " 'India, Germany, Austria': 1,\n",
       " 'Belgium, United Kingdom, United States': 1,\n",
       " 'India, Australia': 1,\n",
       " 'United Kingdom, West Germany': 1,\n",
       " 'United Kingdom, India, United States': 1,\n",
       " 'United States, Israel, United Kingdom, Canada': 1,\n",
       " 'Indonesia, United States': 1,\n",
       " 'United Kingdom, Canada, United States, Cayman Islands': 1,\n",
       " 'Philippines, Singapore': 1,\n",
       " 'India, Turkey': 1,\n",
       " 'Denmark, Brazil, France, Portugal, Sweden': 1,\n",
       " 'Cyprus': 1,\n",
       " 'Romania, France, Switzerland, Germany': 1,\n",
       " 'Brazil, United Kingdom': 1,\n",
       " 'United Kingdom, United States, Ireland': 1,\n",
       " 'Taiwan, China': 1,\n",
       " 'Austria, Germany': 1,\n",
       " 'Netherlands, Germany, Denmark, United Kingdom': 1,\n",
       " 'United Kingdom, France, Belgium, Canada, United States': 1,\n",
       " 'Ireland, United Kingdom': 1,\n",
       " 'United States, United Kingdom, Japan': 1,\n",
       " 'Uruguay, Argentina': 1,\n",
       " 'Puerto Rico, United States, Colombia': 1,\n",
       " 'France, Belgium, United States': 1,\n",
       " 'United Kingdom, United States, Japan': 1,\n",
       " 'Italy, Turkey': 1,\n",
       " 'Turkey, India': 1,\n",
       " 'United States, Mexico, Colombia': 1,\n",
       " 'Italy, United Kingdom, France': 1,\n",
       " 'India, United Kingdom, China, Canada, Japan, South Korea, United States': 1,\n",
       " 'United Kingdom, Germany, United States, France': 1,\n",
       " 'Finland, France': 1,\n",
       " 'United Kingdom, Spain': 1,\n",
       " 'Saudi Arabia, Netherlands, Germany, Jordan, United Arab Emirates, United States': 1,\n",
       " 'Canada, Nigeria': 1,\n",
       " 'Romania, United States': 1,\n",
       " 'United Kingdom, Germany, United Arab Emirates, New Zealand': 1,\n",
       " 'Zimbabwe': 1,\n",
       " 'Saudi Arabia, United Arab Emirates': 1,\n",
       " 'United States, Mexico, Spain, Malta': 1,\n",
       " 'United Arab Emirates, Jordan, Lebanon, Saudi Arabia': 1,\n",
       " 'France, Malta, United States': 1,\n",
       " 'United Kingdom, France, Belgium, Ireland, United States': 1,\n",
       " 'United Kingdom, Hong Kong': 1,\n",
       " 'United States, Norway, Canada': 1,\n",
       " 'South Africa, Nigeria': 1,\n",
       " 'France, Belgium, Luxembourg, Romania, Canada, United States': 1,\n",
       " 'Singapore, Malaysia': 1,\n",
       " 'Italy, Belgium': 1,\n",
       " 'United Kingdom, Hungary, Australia': 1,\n",
       " 'United States, South Korea, Japan': 1,\n",
       " 'Argentina, United States, Mexico': 1,\n",
       " 'Canada, Norway': 1,\n",
       " 'Mexico, United States, Spain, Colombia': 1,\n",
       " 'France, Senegal, Belgium': 1,\n",
       " 'Uruguay, Guatemala': 1,\n",
       " 'Romania, Bulgaria, Hungary': 1,\n",
       " 'Philippines, United States': 1,\n",
       " 'India, United Kingdom, Canada, United States': 1,\n",
       " 'United Kingdom, United States, Germany, Denmark, Belgium, Japan': 1,\n",
       " 'United States, Poland': 1,\n",
       " 'Mauritius, South Africa': 1,\n",
       " 'France, Japan': 1,\n",
       " 'Argentina, Uruguay, Serbia': 1,\n",
       " 'South Korea, Canada, United States, China': 1,\n",
       " 'Norway, Sweden': 1,\n",
       " 'Netherlands, Germany, Italy, Canada': 1,\n",
       " 'Indonesia, South Korea, Singapore': 1,\n",
       " 'Spain, France, United States': 1,\n",
       " 'United States, United Kingdom, France, Germany, Japan': 1,\n",
       " 'Uruguay, Argentina, Germany, Spain': 1,\n",
       " 'Taiwan, Malaysia': 1,\n",
       " 'France, South Korea, Japan, United States': 1,\n",
       " 'Kenya, United States': 1,\n",
       " 'United Arab Emirates, Jordan': 1}"
      ]
     },
     "execution_count": 178,
     "metadata": {},
     "output_type": "execute_result"
    }
   ],
   "source": [
    "data['country'].value_counts().to_dict()"
   ]
  },
  {
   "cell_type": "markdown",
   "metadata": {},
   "source": [
    "Creating a new column named \"screened_country_count\""
   ]
  },
  {
   "cell_type": "code",
   "execution_count": 179,
   "metadata": {},
   "outputs": [
    {
     "data": {
      "text/html": [
       "<div>\n",
       "<style scoped>\n",
       "    .dataframe tbody tr th:only-of-type {\n",
       "        vertical-align: middle;\n",
       "    }\n",
       "\n",
       "    .dataframe tbody tr th {\n",
       "        vertical-align: top;\n",
       "    }\n",
       "\n",
       "    .dataframe thead th {\n",
       "        text-align: right;\n",
       "    }\n",
       "</style>\n",
       "<table border=\"1\" class=\"dataframe\">\n",
       "  <thead>\n",
       "    <tr style=\"text-align: right;\">\n",
       "      <th></th>\n",
       "      <th>type</th>\n",
       "      <th>title</th>\n",
       "      <th>director</th>\n",
       "      <th>cast</th>\n",
       "      <th>country</th>\n",
       "      <th>date_added</th>\n",
       "      <th>release_year</th>\n",
       "      <th>rating</th>\n",
       "      <th>duration</th>\n",
       "      <th>listed_in</th>\n",
       "      <th>screened_country_count</th>\n",
       "    </tr>\n",
       "  </thead>\n",
       "  <tbody>\n",
       "    <tr>\n",
       "      <th>1</th>\n",
       "      <td>TV Show</td>\n",
       "      <td>Blood &amp; Water</td>\n",
       "      <td>Unavailable</td>\n",
       "      <td>Ama Qamata, Khosi Ngema, Gail Mabalane, Thaban...</td>\n",
       "      <td>South Africa</td>\n",
       "      <td>September 24, 2021</td>\n",
       "      <td>2021</td>\n",
       "      <td>TV-MA</td>\n",
       "      <td>2 Seasons</td>\n",
       "      <td>International TV Shows, TV Dramas, TV Mysteries</td>\n",
       "      <td>1</td>\n",
       "    </tr>\n",
       "    <tr>\n",
       "      <th>4</th>\n",
       "      <td>TV Show</td>\n",
       "      <td>Kota Factory</td>\n",
       "      <td>Unavailable</td>\n",
       "      <td>Mayur More, Jitendra Kumar, Ranjan Raj, Alam K...</td>\n",
       "      <td>India</td>\n",
       "      <td>September 24, 2021</td>\n",
       "      <td>2021</td>\n",
       "      <td>TV-MA</td>\n",
       "      <td>2 Seasons</td>\n",
       "      <td>International TV Shows, Romantic TV Shows, TV ...</td>\n",
       "      <td>1</td>\n",
       "    </tr>\n",
       "    <tr>\n",
       "      <th>7</th>\n",
       "      <td>Movie</td>\n",
       "      <td>Sankofa</td>\n",
       "      <td>Haile Gerima</td>\n",
       "      <td>Kofi Ghanaba, Oyafunmike Ogunlano, Alexandra D...</td>\n",
       "      <td>United States, Ghana, Burkina Faso, United Kin...</td>\n",
       "      <td>September 24, 2021</td>\n",
       "      <td>1993</td>\n",
       "      <td>TV-MA</td>\n",
       "      <td>125 min</td>\n",
       "      <td>Dramas, Independent Movies, International Movies</td>\n",
       "      <td>6</td>\n",
       "    </tr>\n",
       "    <tr>\n",
       "      <th>8</th>\n",
       "      <td>TV Show</td>\n",
       "      <td>The Great British Baking Show</td>\n",
       "      <td>Andy Devonshire</td>\n",
       "      <td>Mel Giedroyc, Sue Perkins, Mary Berry, Paul Ho...</td>\n",
       "      <td>United Kingdom</td>\n",
       "      <td>September 24, 2021</td>\n",
       "      <td>2021</td>\n",
       "      <td>TV-14</td>\n",
       "      <td>9 Seasons</td>\n",
       "      <td>British TV Shows, Reality TV</td>\n",
       "      <td>1</td>\n",
       "    </tr>\n",
       "    <tr>\n",
       "      <th>9</th>\n",
       "      <td>Movie</td>\n",
       "      <td>The Starling</td>\n",
       "      <td>Theodore Melfi</td>\n",
       "      <td>Melissa McCarthy, Chris O'Dowd, Kevin Kline, T...</td>\n",
       "      <td>United States</td>\n",
       "      <td>September 24, 2021</td>\n",
       "      <td>2021</td>\n",
       "      <td>PG-13</td>\n",
       "      <td>104 min</td>\n",
       "      <td>Comedies, Dramas</td>\n",
       "      <td>1</td>\n",
       "    </tr>\n",
       "  </tbody>\n",
       "</table>\n",
       "</div>"
      ],
      "text/plain": [
       "      type                          title         director  \\\n",
       "1  TV Show                  Blood & Water      Unavailable   \n",
       "4  TV Show                   Kota Factory      Unavailable   \n",
       "7    Movie                        Sankofa     Haile Gerima   \n",
       "8  TV Show  The Great British Baking Show  Andy Devonshire   \n",
       "9    Movie                   The Starling   Theodore Melfi   \n",
       "\n",
       "                                                cast  \\\n",
       "1  Ama Qamata, Khosi Ngema, Gail Mabalane, Thaban...   \n",
       "4  Mayur More, Jitendra Kumar, Ranjan Raj, Alam K...   \n",
       "7  Kofi Ghanaba, Oyafunmike Ogunlano, Alexandra D...   \n",
       "8  Mel Giedroyc, Sue Perkins, Mary Berry, Paul Ho...   \n",
       "9  Melissa McCarthy, Chris O'Dowd, Kevin Kline, T...   \n",
       "\n",
       "                                             country          date_added  \\\n",
       "1                                       South Africa  September 24, 2021   \n",
       "4                                              India  September 24, 2021   \n",
       "7  United States, Ghana, Burkina Faso, United Kin...  September 24, 2021   \n",
       "8                                     United Kingdom  September 24, 2021   \n",
       "9                                      United States  September 24, 2021   \n",
       "\n",
       "   release_year rating   duration  \\\n",
       "1          2021  TV-MA  2 Seasons   \n",
       "4          2021  TV-MA  2 Seasons   \n",
       "7          1993  TV-MA    125 min   \n",
       "8          2021  TV-14  9 Seasons   \n",
       "9          2021  PG-13    104 min   \n",
       "\n",
       "                                           listed_in  screened_country_count  \n",
       "1    International TV Shows, TV Dramas, TV Mysteries                       1  \n",
       "4  International TV Shows, Romantic TV Shows, TV ...                       1  \n",
       "7   Dramas, Independent Movies, International Movies                       6  \n",
       "8                       British TV Shows, Reality TV                       1  \n",
       "9                                   Comedies, Dramas                       1  "
      ]
     },
     "execution_count": 179,
     "metadata": {},
     "output_type": "execute_result"
    }
   ],
   "source": [
    "def count_ext(x):\n",
    "    return len(x.split(','))\n",
    "data['screened_country_count']=data['country'].apply(count_ext)\n",
    "data.head()"
   ]
  },
  {
   "cell_type": "code",
   "execution_count": 180,
   "metadata": {},
   "outputs": [],
   "source": [
    "movie_count=data['type'].value_counts()[0]\n",
    "tvshow_count=data['type'].value_counts()[1]"
   ]
  },
  {
   "cell_type": "code",
   "execution_count": 181,
   "metadata": {},
   "outputs": [
    {
     "data": {
      "application/vnd.plotly.v1+json": {
       "config": {
        "plotlyServerURL": "https://plot.ly"
       },
       "data": [
        {
         "alignmentgroup": "True",
         "hovertemplate": "x=%{x}<br>y=%{y}<extra></extra>",
         "legendgroup": "",
         "marker": {
          "color": [
           "red",
           "blue"
          ],
          "pattern": {
           "shape": ""
          }
         },
         "name": "",
         "offsetgroup": "",
         "orientation": "v",
         "showlegend": false,
         "textposition": "auto",
         "type": "bar",
         "x": [
          "Movies",
          "TV Show"
         ],
         "xaxis": "x",
         "y": [
          5277,
          2013
         ],
         "yaxis": "y"
        }
       ],
       "layout": {
        "barmode": "relative",
        "legend": {
         "tracegroupgap": 0
        },
        "margin": {
         "t": 60
        },
        "template": {
         "data": {
          "bar": [
           {
            "error_x": {
             "color": "#2a3f5f"
            },
            "error_y": {
             "color": "#2a3f5f"
            },
            "marker": {
             "line": {
              "color": "#E5ECF6",
              "width": 0.5
             },
             "pattern": {
              "fillmode": "overlay",
              "size": 10,
              "solidity": 0.2
             }
            },
            "type": "bar"
           }
          ],
          "barpolar": [
           {
            "marker": {
             "line": {
              "color": "#E5ECF6",
              "width": 0.5
             },
             "pattern": {
              "fillmode": "overlay",
              "size": 10,
              "solidity": 0.2
             }
            },
            "type": "barpolar"
           }
          ],
          "carpet": [
           {
            "aaxis": {
             "endlinecolor": "#2a3f5f",
             "gridcolor": "white",
             "linecolor": "white",
             "minorgridcolor": "white",
             "startlinecolor": "#2a3f5f"
            },
            "baxis": {
             "endlinecolor": "#2a3f5f",
             "gridcolor": "white",
             "linecolor": "white",
             "minorgridcolor": "white",
             "startlinecolor": "#2a3f5f"
            },
            "type": "carpet"
           }
          ],
          "choropleth": [
           {
            "colorbar": {
             "outlinewidth": 0,
             "ticks": ""
            },
            "type": "choropleth"
           }
          ],
          "contour": [
           {
            "colorbar": {
             "outlinewidth": 0,
             "ticks": ""
            },
            "colorscale": [
             [
              0,
              "#0d0887"
             ],
             [
              0.1111111111111111,
              "#46039f"
             ],
             [
              0.2222222222222222,
              "#7201a8"
             ],
             [
              0.3333333333333333,
              "#9c179e"
             ],
             [
              0.4444444444444444,
              "#bd3786"
             ],
             [
              0.5555555555555556,
              "#d8576b"
             ],
             [
              0.6666666666666666,
              "#ed7953"
             ],
             [
              0.7777777777777778,
              "#fb9f3a"
             ],
             [
              0.8888888888888888,
              "#fdca26"
             ],
             [
              1,
              "#f0f921"
             ]
            ],
            "type": "contour"
           }
          ],
          "contourcarpet": [
           {
            "colorbar": {
             "outlinewidth": 0,
             "ticks": ""
            },
            "type": "contourcarpet"
           }
          ],
          "heatmap": [
           {
            "colorbar": {
             "outlinewidth": 0,
             "ticks": ""
            },
            "colorscale": [
             [
              0,
              "#0d0887"
             ],
             [
              0.1111111111111111,
              "#46039f"
             ],
             [
              0.2222222222222222,
              "#7201a8"
             ],
             [
              0.3333333333333333,
              "#9c179e"
             ],
             [
              0.4444444444444444,
              "#bd3786"
             ],
             [
              0.5555555555555556,
              "#d8576b"
             ],
             [
              0.6666666666666666,
              "#ed7953"
             ],
             [
              0.7777777777777778,
              "#fb9f3a"
             ],
             [
              0.8888888888888888,
              "#fdca26"
             ],
             [
              1,
              "#f0f921"
             ]
            ],
            "type": "heatmap"
           }
          ],
          "heatmapgl": [
           {
            "colorbar": {
             "outlinewidth": 0,
             "ticks": ""
            },
            "colorscale": [
             [
              0,
              "#0d0887"
             ],
             [
              0.1111111111111111,
              "#46039f"
             ],
             [
              0.2222222222222222,
              "#7201a8"
             ],
             [
              0.3333333333333333,
              "#9c179e"
             ],
             [
              0.4444444444444444,
              "#bd3786"
             ],
             [
              0.5555555555555556,
              "#d8576b"
             ],
             [
              0.6666666666666666,
              "#ed7953"
             ],
             [
              0.7777777777777778,
              "#fb9f3a"
             ],
             [
              0.8888888888888888,
              "#fdca26"
             ],
             [
              1,
              "#f0f921"
             ]
            ],
            "type": "heatmapgl"
           }
          ],
          "histogram": [
           {
            "marker": {
             "pattern": {
              "fillmode": "overlay",
              "size": 10,
              "solidity": 0.2
             }
            },
            "type": "histogram"
           }
          ],
          "histogram2d": [
           {
            "colorbar": {
             "outlinewidth": 0,
             "ticks": ""
            },
            "colorscale": [
             [
              0,
              "#0d0887"
             ],
             [
              0.1111111111111111,
              "#46039f"
             ],
             [
              0.2222222222222222,
              "#7201a8"
             ],
             [
              0.3333333333333333,
              "#9c179e"
             ],
             [
              0.4444444444444444,
              "#bd3786"
             ],
             [
              0.5555555555555556,
              "#d8576b"
             ],
             [
              0.6666666666666666,
              "#ed7953"
             ],
             [
              0.7777777777777778,
              "#fb9f3a"
             ],
             [
              0.8888888888888888,
              "#fdca26"
             ],
             [
              1,
              "#f0f921"
             ]
            ],
            "type": "histogram2d"
           }
          ],
          "histogram2dcontour": [
           {
            "colorbar": {
             "outlinewidth": 0,
             "ticks": ""
            },
            "colorscale": [
             [
              0,
              "#0d0887"
             ],
             [
              0.1111111111111111,
              "#46039f"
             ],
             [
              0.2222222222222222,
              "#7201a8"
             ],
             [
              0.3333333333333333,
              "#9c179e"
             ],
             [
              0.4444444444444444,
              "#bd3786"
             ],
             [
              0.5555555555555556,
              "#d8576b"
             ],
             [
              0.6666666666666666,
              "#ed7953"
             ],
             [
              0.7777777777777778,
              "#fb9f3a"
             ],
             [
              0.8888888888888888,
              "#fdca26"
             ],
             [
              1,
              "#f0f921"
             ]
            ],
            "type": "histogram2dcontour"
           }
          ],
          "mesh3d": [
           {
            "colorbar": {
             "outlinewidth": 0,
             "ticks": ""
            },
            "type": "mesh3d"
           }
          ],
          "parcoords": [
           {
            "line": {
             "colorbar": {
              "outlinewidth": 0,
              "ticks": ""
             }
            },
            "type": "parcoords"
           }
          ],
          "pie": [
           {
            "automargin": true,
            "type": "pie"
           }
          ],
          "scatter": [
           {
            "fillpattern": {
             "fillmode": "overlay",
             "size": 10,
             "solidity": 0.2
            },
            "type": "scatter"
           }
          ],
          "scatter3d": [
           {
            "line": {
             "colorbar": {
              "outlinewidth": 0,
              "ticks": ""
             }
            },
            "marker": {
             "colorbar": {
              "outlinewidth": 0,
              "ticks": ""
             }
            },
            "type": "scatter3d"
           }
          ],
          "scattercarpet": [
           {
            "marker": {
             "colorbar": {
              "outlinewidth": 0,
              "ticks": ""
             }
            },
            "type": "scattercarpet"
           }
          ],
          "scattergeo": [
           {
            "marker": {
             "colorbar": {
              "outlinewidth": 0,
              "ticks": ""
             }
            },
            "type": "scattergeo"
           }
          ],
          "scattergl": [
           {
            "marker": {
             "colorbar": {
              "outlinewidth": 0,
              "ticks": ""
             }
            },
            "type": "scattergl"
           }
          ],
          "scattermapbox": [
           {
            "marker": {
             "colorbar": {
              "outlinewidth": 0,
              "ticks": ""
             }
            },
            "type": "scattermapbox"
           }
          ],
          "scatterpolar": [
           {
            "marker": {
             "colorbar": {
              "outlinewidth": 0,
              "ticks": ""
             }
            },
            "type": "scatterpolar"
           }
          ],
          "scatterpolargl": [
           {
            "marker": {
             "colorbar": {
              "outlinewidth": 0,
              "ticks": ""
             }
            },
            "type": "scatterpolargl"
           }
          ],
          "scatterternary": [
           {
            "marker": {
             "colorbar": {
              "outlinewidth": 0,
              "ticks": ""
             }
            },
            "type": "scatterternary"
           }
          ],
          "surface": [
           {
            "colorbar": {
             "outlinewidth": 0,
             "ticks": ""
            },
            "colorscale": [
             [
              0,
              "#0d0887"
             ],
             [
              0.1111111111111111,
              "#46039f"
             ],
             [
              0.2222222222222222,
              "#7201a8"
             ],
             [
              0.3333333333333333,
              "#9c179e"
             ],
             [
              0.4444444444444444,
              "#bd3786"
             ],
             [
              0.5555555555555556,
              "#d8576b"
             ],
             [
              0.6666666666666666,
              "#ed7953"
             ],
             [
              0.7777777777777778,
              "#fb9f3a"
             ],
             [
              0.8888888888888888,
              "#fdca26"
             ],
             [
              1,
              "#f0f921"
             ]
            ],
            "type": "surface"
           }
          ],
          "table": [
           {
            "cells": {
             "fill": {
              "color": "#EBF0F8"
             },
             "line": {
              "color": "white"
             }
            },
            "header": {
             "fill": {
              "color": "#C8D4E3"
             },
             "line": {
              "color": "white"
             }
            },
            "type": "table"
           }
          ]
         },
         "layout": {
          "annotationdefaults": {
           "arrowcolor": "#2a3f5f",
           "arrowhead": 0,
           "arrowwidth": 1
          },
          "autotypenumbers": "strict",
          "coloraxis": {
           "colorbar": {
            "outlinewidth": 0,
            "ticks": ""
           }
          },
          "colorscale": {
           "diverging": [
            [
             0,
             "#8e0152"
            ],
            [
             0.1,
             "#c51b7d"
            ],
            [
             0.2,
             "#de77ae"
            ],
            [
             0.3,
             "#f1b6da"
            ],
            [
             0.4,
             "#fde0ef"
            ],
            [
             0.5,
             "#f7f7f7"
            ],
            [
             0.6,
             "#e6f5d0"
            ],
            [
             0.7,
             "#b8e186"
            ],
            [
             0.8,
             "#7fbc41"
            ],
            [
             0.9,
             "#4d9221"
            ],
            [
             1,
             "#276419"
            ]
           ],
           "sequential": [
            [
             0,
             "#0d0887"
            ],
            [
             0.1111111111111111,
             "#46039f"
            ],
            [
             0.2222222222222222,
             "#7201a8"
            ],
            [
             0.3333333333333333,
             "#9c179e"
            ],
            [
             0.4444444444444444,
             "#bd3786"
            ],
            [
             0.5555555555555556,
             "#d8576b"
            ],
            [
             0.6666666666666666,
             "#ed7953"
            ],
            [
             0.7777777777777778,
             "#fb9f3a"
            ],
            [
             0.8888888888888888,
             "#fdca26"
            ],
            [
             1,
             "#f0f921"
            ]
           ],
           "sequentialminus": [
            [
             0,
             "#0d0887"
            ],
            [
             0.1111111111111111,
             "#46039f"
            ],
            [
             0.2222222222222222,
             "#7201a8"
            ],
            [
             0.3333333333333333,
             "#9c179e"
            ],
            [
             0.4444444444444444,
             "#bd3786"
            ],
            [
             0.5555555555555556,
             "#d8576b"
            ],
            [
             0.6666666666666666,
             "#ed7953"
            ],
            [
             0.7777777777777778,
             "#fb9f3a"
            ],
            [
             0.8888888888888888,
             "#fdca26"
            ],
            [
             1,
             "#f0f921"
            ]
           ]
          },
          "colorway": [
           "#636efa",
           "#EF553B",
           "#00cc96",
           "#ab63fa",
           "#FFA15A",
           "#19d3f3",
           "#FF6692",
           "#B6E880",
           "#FF97FF",
           "#FECB52"
          ],
          "font": {
           "color": "#2a3f5f"
          },
          "geo": {
           "bgcolor": "white",
           "lakecolor": "white",
           "landcolor": "#E5ECF6",
           "showlakes": true,
           "showland": true,
           "subunitcolor": "white"
          },
          "hoverlabel": {
           "align": "left"
          },
          "hovermode": "closest",
          "mapbox": {
           "style": "light"
          },
          "paper_bgcolor": "white",
          "plot_bgcolor": "#E5ECF6",
          "polar": {
           "angularaxis": {
            "gridcolor": "white",
            "linecolor": "white",
            "ticks": ""
           },
           "bgcolor": "#E5ECF6",
           "radialaxis": {
            "gridcolor": "white",
            "linecolor": "white",
            "ticks": ""
           }
          },
          "scene": {
           "xaxis": {
            "backgroundcolor": "#E5ECF6",
            "gridcolor": "white",
            "gridwidth": 2,
            "linecolor": "white",
            "showbackground": true,
            "ticks": "",
            "zerolinecolor": "white"
           },
           "yaxis": {
            "backgroundcolor": "#E5ECF6",
            "gridcolor": "white",
            "gridwidth": 2,
            "linecolor": "white",
            "showbackground": true,
            "ticks": "",
            "zerolinecolor": "white"
           },
           "zaxis": {
            "backgroundcolor": "#E5ECF6",
            "gridcolor": "white",
            "gridwidth": 2,
            "linecolor": "white",
            "showbackground": true,
            "ticks": "",
            "zerolinecolor": "white"
           }
          },
          "shapedefaults": {
           "line": {
            "color": "#2a3f5f"
           }
          },
          "ternary": {
           "aaxis": {
            "gridcolor": "white",
            "linecolor": "white",
            "ticks": ""
           },
           "baxis": {
            "gridcolor": "white",
            "linecolor": "white",
            "ticks": ""
           },
           "bgcolor": "#E5ECF6",
           "caxis": {
            "gridcolor": "white",
            "linecolor": "white",
            "ticks": ""
           }
          },
          "title": {
           "x": 0.05
          },
          "xaxis": {
           "automargin": true,
           "gridcolor": "white",
           "linecolor": "white",
           "ticks": "",
           "title": {
            "standoff": 15
           },
           "zerolinecolor": "white",
           "zerolinewidth": 2
          },
          "yaxis": {
           "automargin": true,
           "gridcolor": "white",
           "linecolor": "white",
           "ticks": "",
           "title": {
            "standoff": 15
           },
           "zerolinecolor": "white",
           "zerolinewidth": 2
          }
         }
        },
        "xaxis": {
         "anchor": "y",
         "domain": [
          0,
          1
         ],
         "title": {
          "text": "Content Type"
         }
        },
        "yaxis": {
         "anchor": "x",
         "domain": [
          0,
          1
         ],
         "title": {
          "text": "Number of Titles screened"
         }
        }
       }
      }
     },
     "metadata": {},
     "output_type": "display_data"
    }
   ],
   "source": [
    "fig = px.bar(x =['Movies','TV Show'], y = [movie_count,tvshow_count])\n",
    "fig.update_layout(\n",
    "    xaxis_title=\"Content Type\",\n",
    "    yaxis_title=\"Number of Titles screened\",\n",
    ")\n",
    "fig.update_traces(marker_color=['red', 'blue'])\n",
    "fig.show()\n"
   ]
  },
  {
   "cell_type": "markdown",
   "metadata": {},
   "source": [
    "No of Titles under each rating"
   ]
  },
  {
   "cell_type": "code",
   "execution_count": 182,
   "metadata": {},
   "outputs": [
    {
     "data": {
      "text/plain": [
       "[Text(0, 0, '2657'),\n",
       " Text(0, 0, '1755'),\n",
       " Text(0, 0, '470'),\n",
       " Text(0, 0, '222'),\n",
       " Text(0, 0, '275'),\n",
       " Text(0, 0, '779'),\n",
       " Text(0, 0, '653'),\n",
       " Text(0, 0, '209'),\n",
       " Text(0, 0, '158'),\n",
       " Text(0, 0, '40'),\n",
       " Text(0, 0, '3'),\n",
       " Text(0, 0, '62'),\n",
       " Text(0, 0, '4'),\n",
       " Text(0, 0, '3')]"
      ]
     },
     "execution_count": 182,
     "metadata": {},
     "output_type": "execute_result"
    },
    {
     "data": {
      "image/png": "[encoded data removed]",
      "text/plain": [
       "<Figure size 3000x600 with 1 Axes>"
      ]
     },
     "metadata": {},
     "output_type": "display_data"
    }
   ],
   "source": [
    "plt.figure(figsize=(30,6))\n",
    "plt.title(\"Value Counts of The Ratings Variable\")\n",
    "sb.set(style=\"darkgrid\")\n",
    "ax = sb.countplot(x=\"rating\", data=data, palette=\"Pastel2\")\n",
    "ax.bar_label(ax.containers[0])"
   ]
  },
  {
   "cell_type": "code",
   "execution_count": 183,
   "metadata": {},
   "outputs": [
    {
     "data": {
      "text/plain": [
       "January 1, 2020      101\n",
       "November 1, 2019      82\n",
       "March 1, 2018         72\n",
       "December 31, 2019     69\n",
       "October 1, 2018       63\n",
       "                    ... \n",
       "November 29, 2020      1\n",
       "August 5, 2016         1\n",
       "August 2, 2016         1\n",
       "December 13, 2020      1\n",
       "January 11, 2020       1\n",
       "Name: date_added, Length: 1673, dtype: int64"
      ]
     },
     "execution_count": 183,
     "metadata": {},
     "output_type": "execute_result"
    }
   ],
   "source": [
    "data['date_added'].value_counts()"
   ]
  },
  {
   "cell_type": "code",
   "execution_count": 184,
   "metadata": {},
   "outputs": [
    {
     "data": {
      "text/html": [
       "<div>\n",
       "<style scoped>\n",
       "    .dataframe tbody tr th:only-of-type {\n",
       "        vertical-align: middle;\n",
       "    }\n",
       "\n",
       "    .dataframe tbody tr th {\n",
       "        vertical-align: top;\n",
       "    }\n",
       "\n",
       "    .dataframe thead th {\n",
       "        text-align: right;\n",
       "    }\n",
       "</style>\n",
       "<table border=\"1\" class=\"dataframe\">\n",
       "  <thead>\n",
       "    <tr style=\"text-align: right;\">\n",
       "      <th></th>\n",
       "      <th>year</th>\n",
       "      <th>count</th>\n",
       "    </tr>\n",
       "  </thead>\n",
       "  <tbody>\n",
       "    <tr>\n",
       "      <th>0</th>\n",
       "      <td>2018</td>\n",
       "      <td>935</td>\n",
       "    </tr>\n",
       "    <tr>\n",
       "      <th>1</th>\n",
       "      <td>2017</td>\n",
       "      <td>862</td>\n",
       "    </tr>\n",
       "    <tr>\n",
       "      <th>2</th>\n",
       "      <td>2019</td>\n",
       "      <td>822</td>\n",
       "    </tr>\n",
       "    <tr>\n",
       "      <th>3</th>\n",
       "      <td>2016</td>\n",
       "      <td>751</td>\n",
       "    </tr>\n",
       "    <tr>\n",
       "      <th>4</th>\n",
       "      <td>2020</td>\n",
       "      <td>744</td>\n",
       "    </tr>\n",
       "  </tbody>\n",
       "</table>\n",
       "</div>"
      ],
      "text/plain": [
       "   year  count\n",
       "0  2018    935\n",
       "1  2017    862\n",
       "2  2019    822\n",
       "3  2016    751\n",
       "4  2020    744"
      ]
     },
     "execution_count": 184,
     "metadata": {},
     "output_type": "execute_result"
    }
   ],
   "source": [
    "yd=data['release_year'].value_counts().head(5).reset_index().rename(columns={'index':'year','release_year':'count'})\n",
    "yd"
   ]
  },
  {
   "cell_type": "code",
   "execution_count": 185,
   "metadata": {},
   "outputs": [
    {
     "data": {
      "application/vnd.plotly.v1+json": {
       "config": {
        "plotlyServerURL": "https://plot.ly"
       },
       "data": [
        {
         "alignmentgroup": "True",
         "hovertemplate": "year=%{x}<br>count=%{y}<extra></extra>",
         "legendgroup": "",
         "marker": {
          "color": "#636efa",
          "pattern": {
           "shape": ""
          }
         },
         "name": "",
         "offsetgroup": "",
         "orientation": "v",
         "showlegend": false,
         "textposition": "auto",
         "type": "bar",
         "x": [
          2018,
          2017,
          2019,
          2016,
          2020
         ],
         "xaxis": "x",
         "y": [
          935,
          862,
          822,
          751,
          744
         ],
         "yaxis": "y"
        }
       ],
       "layout": {
        "barmode": "relative",
        "legend": {
         "tracegroupgap": 0
        },
        "margin": {
         "t": 60
        },
        "template": {
         "data": {
          "bar": [
           {
            "error_x": {
             "color": "#2a3f5f"
            },
            "error_y": {
             "color": "#2a3f5f"
            },
            "marker": {
             "line": {
              "color": "#E5ECF6",
              "width": 0.5
             },
             "pattern": {
              "fillmode": "overlay",
              "size": 10,
              "solidity": 0.2
             }
            },
            "type": "bar"
           }
          ],
          "barpolar": [
           {
            "marker": {
             "line": {
              "color": "#E5ECF6",
              "width": 0.5
             },
             "pattern": {
              "fillmode": "overlay",
              "size": 10,
              "solidity": 0.2
             }
            },
            "type": "barpolar"
           }
          ],
          "carpet": [
           {
            "aaxis": {
             "endlinecolor": "#2a3f5f",
             "gridcolor": "white",
             "linecolor": "white",
             "minorgridcolor": "white",
             "startlinecolor": "#2a3f5f"
            },
            "baxis": {
             "endlinecolor": "#2a3f5f",
             "gridcolor": "white",
             "linecolor": "white",
             "minorgridcolor": "white",
             "startlinecolor": "#2a3f5f"
            },
            "type": "carpet"
           }
          ],
          "choropleth": [
           {
            "colorbar": {
             "outlinewidth": 0,
             "ticks": ""
            },
            "type": "choropleth"
           }
          ],
          "contour": [
           {
            "colorbar": {
             "outlinewidth": 0,
             "ticks": ""
            },
            "colorscale": [
             [
              0,
              "#0d0887"
             ],
             [
              0.1111111111111111,
              "#46039f"
             ],
             [
              0.2222222222222222,
              "#7201a8"
             ],
             [
              0.3333333333333333,
              "#9c179e"
             ],
             [
              0.4444444444444444,
              "#bd3786"
             ],
             [
              0.5555555555555556,
              "#d8576b"
             ],
             [
              0.6666666666666666,
              "#ed7953"
             ],
             [
              0.7777777777777778,
              "#fb9f3a"
             ],
             [
              0.8888888888888888,
              "#fdca26"
             ],
             [
              1,
              "#f0f921"
             ]
            ],
            "type": "contour"
           }
          ],
          "contourcarpet": [
           {
            "colorbar": {
             "outlinewidth": 0,
             "ticks": ""
            },
            "type": "contourcarpet"
           }
          ],
          "heatmap": [
           {
            "colorbar": {
             "outlinewidth": 0,
             "ticks": ""
            },
            "colorscale": [
             [
              0,
              "#0d0887"
             ],
             [
              0.1111111111111111,
              "#46039f"
             ],
             [
              0.2222222222222222,
              "#7201a8"
             ],
             [
              0.3333333333333333,
              "#9c179e"
             ],
             [
              0.4444444444444444,
              "#bd3786"
             ],
             [
              0.5555555555555556,
              "#d8576b"
             ],
             [
              0.6666666666666666,
              "#ed7953"
             ],
             [
              0.7777777777777778,
              "#fb9f3a"
             ],
             [
              0.8888888888888888,
              "#fdca26"
             ],
             [
              1,
              "#f0f921"
             ]
            ],
            "type": "heatmap"
           }
          ],
          "heatmapgl": [
           {
            "colorbar": {
             "outlinewidth": 0,
             "ticks": ""
            },
            "colorscale": [
             [
              0,
              "#0d0887"
             ],
             [
              0.1111111111111111,
              "#46039f"
             ],
             [
              0.2222222222222222,
              "#7201a8"
             ],
             [
              0.3333333333333333,
              "#9c179e"
             ],
             [
              0.4444444444444444,
              "#bd3786"
             ],
             [
              0.5555555555555556,
              "#d8576b"
             ],
             [
              0.6666666666666666,
              "#ed7953"
             ],
             [
              0.7777777777777778,
              "#fb9f3a"
             ],
             [
              0.8888888888888888,
              "#fdca26"
             ],
             [
              1,
              "#f0f921"
             ]
            ],
            "type": "heatmapgl"
           }
          ],
          "histogram": [
           {
            "marker": {
             "pattern": {
              "fillmode": "overlay",
              "size": 10,
              "solidity": 0.2
             }
            },
            "type": "histogram"
           }
          ],
          "histogram2d": [
           {
            "colorbar": {
             "outlinewidth": 0,
             "ticks": ""
            },
            "colorscale": [
             [
              0,
              "#0d0887"
             ],
             [
              0.1111111111111111,
              "#46039f"
             ],
             [
              0.2222222222222222,
              "#7201a8"
             ],
             [
              0.3333333333333333,
              "#9c179e"
             ],
             [
              0.4444444444444444,
              "#bd3786"
             ],
             [
              0.5555555555555556,
              "#d8576b"
             ],
             [
              0.6666666666666666,
              "#ed7953"
             ],
             [
              0.7777777777777778,
              "#fb9f3a"
             ],
             [
              0.8888888888888888,
              "#fdca26"
             ],
             [
              1,
              "#f0f921"
             ]
            ],
            "type": "histogram2d"
           }
          ],
          "histogram2dcontour": [
           {
            "colorbar": {
             "outlinewidth": 0,
             "ticks": ""
            },
            "colorscale": [
             [
              0,
              "#0d0887"
             ],
             [
              0.1111111111111111,
              "#46039f"
             ],
             [
              0.2222222222222222,
              "#7201a8"
             ],
             [
              0.3333333333333333,
              "#9c179e"
             ],
             [
              0.4444444444444444,
              "#bd3786"
             ],
             [
              0.5555555555555556,
              "#d8576b"
             ],
             [
              0.6666666666666666,
              "#ed7953"
             ],
             [
              0.7777777777777778,
              "#fb9f3a"
             ],
             [
              0.8888888888888888,
              "#fdca26"
             ],
             [
              1,
              "#f0f921"
             ]
            ],
            "type": "histogram2dcontour"
           }
          ],
          "mesh3d": [
           {
            "colorbar": {
             "outlinewidth": 0,
             "ticks": ""
            },
            "type": "mesh3d"
           }
          ],
          "parcoords": [
           {
            "line": {
             "colorbar": {
              "outlinewidth": 0,
              "ticks": ""
             }
            },
            "type": "parcoords"
           }
          ],
          "pie": [
           {
            "automargin": true,
            "type": "pie"
           }
          ],
          "scatter": [
           {
            "fillpattern": {
             "fillmode": "overlay",
             "size": 10,
             "solidity": 0.2
            },
            "type": "scatter"
           }
          ],
          "scatter3d": [
           {
            "line": {
             "colorbar": {
              "outlinewidth": 0,
              "ticks": ""
             }
            },
            "marker": {
             "colorbar": {
              "outlinewidth": 0,
              "ticks": ""
             }
            },
            "type": "scatter3d"
           }
          ],
          "scattercarpet": [
           {
            "marker": {
             "colorbar": {
              "outlinewidth": 0,
              "ticks": ""
             }
            },
            "type": "scattercarpet"
           }
          ],
          "scattergeo": [
           {
            "marker": {
             "colorbar": {
              "outlinewidth": 0,
              "ticks": ""
             }
            },
            "type": "scattergeo"
           }
          ],
          "scattergl": [
           {
            "marker": {
             "colorbar": {
              "outlinewidth": 0,
              "ticks": ""
             }
            },
            "type": "scattergl"
           }
          ],
          "scattermapbox": [
           {
            "marker": {
             "colorbar": {
              "outlinewidth": 0,
              "ticks": ""
             }
            },
            "type": "scattermapbox"
           }
          ],
          "scatterpolar": [
           {
            "marker": {
             "colorbar": {
              "outlinewidth": 0,
              "ticks": ""
             }
            },
            "type": "scatterpolar"
           }
          ],
          "scatterpolargl": [
           {
            "marker": {
             "colorbar": {
              "outlinewidth": 0,
              "ticks": ""
             }
            },
            "type": "scatterpolargl"
           }
          ],
          "scatterternary": [
           {
            "marker": {
             "colorbar": {
              "outlinewidth": 0,
              "ticks": ""
             }
            },
            "type": "scatterternary"
           }
          ],
          "surface": [
           {
            "colorbar": {
             "outlinewidth": 0,
             "ticks": ""
            },
            "colorscale": [
             [
              0,
              "#0d0887"
             ],
             [
              0.1111111111111111,
              "#46039f"
             ],
             [
              0.2222222222222222,
              "#7201a8"
             ],
             [
              0.3333333333333333,
              "#9c179e"
             ],
             [
              0.4444444444444444,
              "#bd3786"
             ],
             [
              0.5555555555555556,
              "#d8576b"
             ],
             [
              0.6666666666666666,
              "#ed7953"
             ],
             [
              0.7777777777777778,
              "#fb9f3a"
             ],
             [
              0.8888888888888888,
              "#fdca26"
             ],
             [
              1,
              "#f0f921"
             ]
            ],
            "type": "surface"
           }
          ],
          "table": [
           {
            "cells": {
             "fill": {
              "color": "#EBF0F8"
             },
             "line": {
              "color": "white"
             }
            },
            "header": {
             "fill": {
              "color": "#C8D4E3"
             },
             "line": {
              "color": "white"
             }
            },
            "type": "table"
           }
          ]
         },
         "layout": {
          "annotationdefaults": {
           "arrowcolor": "#2a3f5f",
           "arrowhead": 0,
           "arrowwidth": 1
          },
          "autotypenumbers": "strict",
          "coloraxis": {
           "colorbar": {
            "outlinewidth": 0,
            "ticks": ""
           }
          },
          "colorscale": {
           "diverging": [
            [
             0,
             "#8e0152"
            ],
            [
             0.1,
             "#c51b7d"
            ],
            [
             0.2,
             "#de77ae"
            ],
            [
             0.3,
             "#f1b6da"
            ],
            [
             0.4,
             "#fde0ef"
            ],
            [
             0.5,
             "#f7f7f7"
            ],
            [
             0.6,
             "#e6f5d0"
            ],
            [
             0.7,
             "#b8e186"
            ],
            [
             0.8,
             "#7fbc41"
            ],
            [
             0.9,
             "#4d9221"
            ],
            [
             1,
             "#276419"
            ]
           ],
           "sequential": [
            [
             0,
             "#0d0887"
            ],
            [
             0.1111111111111111,
             "#46039f"
            ],
            [
             0.2222222222222222,
             "#7201a8"
            ],
            [
             0.3333333333333333,
             "#9c179e"
            ],
            [
             0.4444444444444444,
             "#bd3786"
            ],
            [
             0.5555555555555556,
             "#d8576b"
            ],
            [
             0.6666666666666666,
             "#ed7953"
            ],
            [
             0.7777777777777778,
             "#fb9f3a"
            ],
            [
             0.8888888888888888,
             "#fdca26"
            ],
            [
             1,
             "#f0f921"
            ]
           ],
           "sequentialminus": [
            [
             0,
             "#0d0887"
            ],
            [
             0.1111111111111111,
             "#46039f"
            ],
            [
             0.2222222222222222,
             "#7201a8"
            ],
            [
             0.3333333333333333,
             "#9c179e"
            ],
            [
             0.4444444444444444,
             "#bd3786"
            ],
            [
             0.5555555555555556,
             "#d8576b"
            ],
            [
             0.6666666666666666,
             "#ed7953"
            ],
            [
             0.7777777777777778,
             "#fb9f3a"
            ],
            [
             0.8888888888888888,
             "#fdca26"
            ],
            [
             1,
             "#f0f921"
            ]
           ]
          },
          "colorway": [
           "#636efa",
           "#EF553B",
           "#00cc96",
           "#ab63fa",
           "#FFA15A",
           "#19d3f3",
           "#FF6692",
           "#B6E880",
           "#FF97FF",
           "#FECB52"
          ],
          "font": {
           "color": "#2a3f5f"
          },
          "geo": {
           "bgcolor": "white",
           "lakecolor": "white",
           "landcolor": "#E5ECF6",
           "showlakes": true,
           "showland": true,
           "subunitcolor": "white"
          },
          "hoverlabel": {
           "align": "left"
          },
          "hovermode": "closest",
          "mapbox": {
           "style": "light"
          },
          "paper_bgcolor": "white",
          "plot_bgcolor": "#E5ECF6",
          "polar": {
           "angularaxis": {
            "gridcolor": "white",
            "linecolor": "white",
            "ticks": ""
           },
           "bgcolor": "#E5ECF6",
           "radialaxis": {
            "gridcolor": "white",
            "linecolor": "white",
            "ticks": ""
           }
          },
          "scene": {
           "xaxis": {
            "backgroundcolor": "#E5ECF6",
            "gridcolor": "white",
            "gridwidth": 2,
            "linecolor": "white",
            "showbackground": true,
            "ticks": "",
            "zerolinecolor": "white"
           },
           "yaxis": {
            "backgroundcolor": "#E5ECF6",
            "gridcolor": "white",
            "gridwidth": 2,
            "linecolor": "white",
            "showbackground": true,
            "ticks": "",
            "zerolinecolor": "white"
           },
           "zaxis": {
            "backgroundcolor": "#E5ECF6",
            "gridcolor": "white",
            "gridwidth": 2,
            "linecolor": "white",
            "showbackground": true,
            "ticks": "",
            "zerolinecolor": "white"
           }
          },
          "shapedefaults": {
           "line": {
            "color": "#2a3f5f"
           }
          },
          "ternary": {
           "aaxis": {
            "gridcolor": "white",
            "linecolor": "white",
            "ticks": ""
           },
           "baxis": {
            "gridcolor": "white",
            "linecolor": "white",
            "ticks": ""
           },
           "bgcolor": "#E5ECF6",
           "caxis": {
            "gridcolor": "white",
            "linecolor": "white",
            "ticks": ""
           }
          },
          "title": {
           "x": 0.05
          },
          "xaxis": {
           "automargin": true,
           "gridcolor": "white",
           "linecolor": "white",
           "ticks": "",
           "title": {
            "standoff": 15
           },
           "zerolinecolor": "white",
           "zerolinewidth": 2
          },
          "yaxis": {
           "automargin": true,
           "gridcolor": "white",
           "linecolor": "white",
           "ticks": "",
           "title": {
            "standoff": 15
           },
           "zerolinecolor": "white",
           "zerolinewidth": 2
          }
         }
        },
        "xaxis": {
         "anchor": "y",
         "domain": [
          0,
          1
         ],
         "title": {
          "text": "Year"
         }
        },
        "yaxis": {
         "anchor": "x",
         "domain": [
          0,
          1
         ],
         "title": {
          "text": "Number of Titles screened"
         }
        }
       }
      }
     },
     "metadata": {},
     "output_type": "display_data"
    }
   ],
   "source": [
    "fig = px.bar(yd,x ='year', y = 'count')\n",
    "fig.update_layout(\n",
    "    xaxis_title=\"Year\",\n",
    "    yaxis_title=\"Number of Titles screened\",\n",
    ")\n",
    "fig.show()"
   ]
  },
  {
   "cell_type": "code",
   "execution_count": 186,
   "metadata": {},
   "outputs": [
    {
     "data": {
      "text/plain": [
       "TV-MA       2657\n",
       "TV-14       1755\n",
       "R            779\n",
       "TV-PG        653\n",
       "PG-13        470\n",
       "PG           275\n",
       "TV-Y7        222\n",
       "TV-Y         209\n",
       "TV-G         158\n",
       "NR            62\n",
       "G             40\n",
       "TV-Y7-FV       4\n",
       "NC-17          3\n",
       "UR             3\n",
       "Name: rating, dtype: int64"
      ]
     },
     "execution_count": 186,
     "metadata": {},
     "output_type": "execute_result"
    }
   ],
   "source": [
    "data['rating'].value_counts()"
   ]
  },
  {
   "cell_type": "markdown",
   "metadata": {},
   "source": [
    "Titles which has screened in more than 5 countries\n",
    "---"
   ]
  },
  {
   "cell_type": "code",
   "execution_count": 187,
   "metadata": {},
   "outputs": [
    {
     "data": {
      "text/plain": [
       "['Sankofa',\n",
       " 'Shaun the Sheep',\n",
       " 'The Professor and the Madman',\n",
       " 'The Take',\n",
       " 'Wadjda',\n",
       " 'Arctic Dogs',\n",
       " 'The Danish Girl',\n",
       " 'The Command',\n",
       " 'Ultimate Beastmaster',\n",
       " 'Beyond Skyline',\n",
       " 'A Sort of Family',\n",
       " 'Another Forever',\n",
       " 'Domino',\n",
       " 'Frozen Planet',\n",
       " 'Frozen Planet: On Thin Ice',\n",
       " 'Frozen Planet: The Epic Journey',\n",
       " 'Nymphomaniac: Volume II',\n",
       " 'The Breadwinner',\n",
       " 'The Congress',\n",
       " 'The Making of Frozen Planet']"
      ]
     },
     "execution_count": 187,
     "metadata": {},
     "output_type": "execute_result"
    }
   ],
   "source": [
    "data[data['screened_country_count']>5]['title'].to_list()"
   ]
  }
 ],
 "metadata": {
  "kernelspec": {
   "display_name": "base",
   "language": "python",
   "name": "python3"
  },
  "language_info": {
   "codemirror_mode": {
    "name": "ipython",
    "version": 3
   },
   "file_extension": ".py",
   "mimetype": "text/x-python",
   "name": "python",
   "nbconvert_exporter": "python",
   "pygments_lexer": "ipython3",
   "version": "3.9.13"
  }
 },
 "nbformat": 4,
 "nbformat_minor": 2
}
